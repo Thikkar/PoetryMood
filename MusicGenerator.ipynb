{
  "nbformat": 4,
  "nbformat_minor": 0,
  "metadata": {
    "colab": {
      "provenance": [],
      "include_colab_link": true
    },
    "kernelspec": {
      "name": "python3",
      "display_name": "Python 3"
    },
    "language_info": {
      "name": "python"
    }
  },
  "cells": [
    {
      "cell_type": "markdown",
      "metadata": {
        "id": "view-in-github",
        "colab_type": "text"
      },
      "source": [
        "<a href=\"https://colab.research.google.com/github/Thikkar/music-generator/blob/main/MusicGenerator.ipynb\" target=\"_parent\"><img src=\"https://colab.research.google.com/assets/colab-badge.svg\" alt=\"Open In Colab\"/></a>"
      ]
    },
    {
      "cell_type": "markdown",
      "source": [
        "Scripts"
      ],
      "metadata": {
        "id": "OUTZPo6Wdq76"
      }
    },
    {
      "cell_type": "code",
      "execution_count": 50,
      "metadata": {
        "colab": {
          "base_uri": "https://localhost:8080/"
        },
        "id": "QZDfnj5edmpZ",
        "outputId": "5e28559b-856d-457b-c18c-4bbfd5e545f9"
      },
      "outputs": [
        {
          "output_type": "stream",
          "name": "stdout",
          "text": [
            "Looking in indexes: https://pypi.org/simple, https://us-python.pkg.dev/colab-wheels/public/simple/\n",
            "Requirement already satisfied: kaggle in /usr/local/lib/python3.8/dist-packages (1.5.12)\n",
            "Requirement already satisfied: tqdm in /usr/local/lib/python3.8/dist-packages (from kaggle) (4.64.1)\n",
            "Requirement already satisfied: python-dateutil in /usr/local/lib/python3.8/dist-packages (from kaggle) (2.8.2)\n",
            "Requirement already satisfied: certifi in /usr/local/lib/python3.8/dist-packages (from kaggle) (2022.12.7)\n",
            "Requirement already satisfied: urllib3 in /usr/local/lib/python3.8/dist-packages (from kaggle) (1.24.3)\n",
            "Requirement already satisfied: requests in /usr/local/lib/python3.8/dist-packages (from kaggle) (2.25.1)\n",
            "Requirement already satisfied: python-slugify in /usr/local/lib/python3.8/dist-packages (from kaggle) (8.0.0)\n",
            "Requirement already satisfied: six>=1.10 in /usr/local/lib/python3.8/dist-packages (from kaggle) (1.15.0)\n",
            "Requirement already satisfied: text-unidecode>=1.3 in /usr/local/lib/python3.8/dist-packages (from python-slugify->kaggle) (1.3)\n",
            "Requirement already satisfied: idna<3,>=2.5 in /usr/local/lib/python3.8/dist-packages (from requests->kaggle) (2.10)\n",
            "Requirement already satisfied: chardet<5,>=3.0.2 in /usr/local/lib/python3.8/dist-packages (from requests->kaggle) (4.0.0)\n"
          ]
        }
      ],
      "source": [
        "! pip install kaggle"
      ]
    },
    {
      "cell_type": "code",
      "source": [
        "! mkdir  ~/.kaggle"
      ],
      "metadata": {
        "colab": {
          "base_uri": "https://localhost:8080/"
        },
        "id": "OSb91TLLgA5u",
        "outputId": "e87328dd-82d9-492b-c0b6-a02539e13e5f"
      },
      "execution_count": 75,
      "outputs": [
        {
          "output_type": "stream",
          "name": "stdout",
          "text": [
            "mkdir: cannot create directory ‘/root/.kaggle’: File exists\n"
          ]
        }
      ]
    },
    {
      "cell_type": "code",
      "source": [
        "! cp kaggle.json ~/.kaggle/"
      ],
      "metadata": {
        "id": "mGlp0wnRgdMA"
      },
      "execution_count": 76,
      "outputs": []
    },
    {
      "cell_type": "code",
      "source": [
        "! chmod 600 ~/.kaggle/kaggle.json"
      ],
      "metadata": {
        "id": "uABvnZcfg3ve"
      },
      "execution_count": 77,
      "outputs": []
    },
    {
      "cell_type": "code",
      "source": [
        "! kaggle datasets download -d michaelarman/poemsdataset"
      ],
      "metadata": {
        "colab": {
          "base_uri": "https://localhost:8080/"
        },
        "id": "qBA21jqWhBIo",
        "outputId": "6e5eea2a-d646-4525-cd90-abc401f49cf2"
      },
      "execution_count": 78,
      "outputs": [
        {
          "output_type": "stream",
          "name": "stdout",
          "text": [
            "poemsdataset.zip: Skipping, found more recently modified local copy (use --force to force download)\n"
          ]
        }
      ]
    },
    {
      "cell_type": "code",
      "source": [
        "! unzip poemsdataset.zip > out.txt"
      ],
      "metadata": {
        "colab": {
          "base_uri": "https://localhost:8080/"
        },
        "id": "VpsTim0WhxQe",
        "outputId": "aef040c3-5014-4b85-805b-39f4b57259d1"
      },
      "execution_count": 79,
      "outputs": [
        {
          "output_type": "stream",
          "name": "stdout",
          "text": [
            "replace forms/abc/AbcPoems2AbcHkAndChinaV2Cauchy3Poembycheungshunsang.txt? [y]es, [n]o, [A]ll, [N]one, [r]ename: A\n",
            "error:  cannot create topics/racism/RacismPoemsTranslationOfRacismIsAroundMeEverywhereByFrancisDugganржЖржорж░ржЪрж░ржкрж╢ржЫрзЬрзЯржЖржЫржЬрждржмржжржмрж╖ржорж▓ржлрж░ржирж╕рж╕ржбржЧржиPoembyAlamSayed.txt\n",
            "        File name too long\n"
          ]
        }
      ]
    },
    {
      "cell_type": "markdown",
      "source": [
        "Imports"
      ],
      "metadata": {
        "id": "-qIMpCfDdsqB"
      }
    },
    {
      "cell_type": "code",
      "source": [
        "import pandas as pd\n",
        "import os\n",
        "import re\n",
        "import nltk\n",
        "from nltk.corpus import stopwords\n",
        "from nltk.corpus import wordnet\n",
        "from nltk.stem import WordNetLemmatizer"
      ],
      "metadata": {
        "id": "BBFR3mHYduMP"
      },
      "execution_count": 80,
      "outputs": []
    },
    {
      "cell_type": "markdown",
      "source": [
        "Data Pre-processing"
      ],
      "metadata": {
        "id": "EKOKsoh1dvfZ"
      }
    },
    {
      "cell_type": "code",
      "source": [
        "# Load data into pandas dataframe - [1 sec]\n",
        "data = []\n",
        "\n",
        "for root, dirs, files in os.walk(\"/content/topics\"):\n",
        "    label = os.path.basename(root)\n",
        "    \n",
        "    for file in files:\n",
        "      path = root + '/' + file\n",
        "      poem = []\n",
        "      with open(path) as f:\n",
        "        poem = f.readlines()\n",
        "\n",
        "      poem_text = ''.join(poem)\n",
        "      pair = (poem_text, label)\n",
        "      data.append(pair)\n",
        "\n",
        "poems_df = pd.DataFrame(data, columns=['poem', 'label'])\n",
        "poems_df"
      ],
      "metadata": {
        "colab": {
          "base_uri": "https://localhost:8080/",
          "height": 424
        },
        "id": "b0iLmdFiR9K2",
        "outputId": "8eee3748-e612-46d7-f470-cbbf74237d3d"
      },
      "execution_count": 81,
      "outputs": [
        {
          "output_type": "execute_result",
          "data": {
            "text/plain": [
              "                                                    poem      label\n",
              "0      Pay respect to\\nYour Father\\nYour Mother\\nTo y...    respect\n",
              "1      Is a valued virtue,\\nPriceless than any treasu...    respect\n",
              "2      If You respect yourself respect to others you'...    respect\n",
              "3      I am sitting in the back of the bus\\nObserving...    respect\n",
              "4      Respect another's wife\\nAs your own mother\\nTr...    respect\n",
              "...                                                  ...        ...\n",
              "14329  Something beautiful\\nYou gave me,\\nAlive and\\n...  beautiful\n",
              "14330  You are beautiful\\nYour love shines right thro...  beautiful\n",
              "14331  If you see me roaming Woodward Avenue\\nDown by...  beautiful\n",
              "14332  Crazy Loneliness Hijacks Memory of a Beautiful...  beautiful\n",
              "14333  The mountains and glens of Aberfoyle are beaut...  beautiful\n",
              "\n",
              "[14334 rows x 2 columns]"
            ],
            "text/html": [
              "\n",
              "  <div id=\"df-a57a6d6b-b3ef-4a82-8ec5-5a6b0b2318be\">\n",
              "    <div class=\"colab-df-container\">\n",
              "      <div>\n",
              "<style scoped>\n",
              "    .dataframe tbody tr th:only-of-type {\n",
              "        vertical-align: middle;\n",
              "    }\n",
              "\n",
              "    .dataframe tbody tr th {\n",
              "        vertical-align: top;\n",
              "    }\n",
              "\n",
              "    .dataframe thead th {\n",
              "        text-align: right;\n",
              "    }\n",
              "</style>\n",
              "<table border=\"1\" class=\"dataframe\">\n",
              "  <thead>\n",
              "    <tr style=\"text-align: right;\">\n",
              "      <th></th>\n",
              "      <th>poem</th>\n",
              "      <th>label</th>\n",
              "    </tr>\n",
              "  </thead>\n",
              "  <tbody>\n",
              "    <tr>\n",
              "      <th>0</th>\n",
              "      <td>Pay respect to\\nYour Father\\nYour Mother\\nTo y...</td>\n",
              "      <td>respect</td>\n",
              "    </tr>\n",
              "    <tr>\n",
              "      <th>1</th>\n",
              "      <td>Is a valued virtue,\\nPriceless than any treasu...</td>\n",
              "      <td>respect</td>\n",
              "    </tr>\n",
              "    <tr>\n",
              "      <th>2</th>\n",
              "      <td>If You respect yourself respect to others you'...</td>\n",
              "      <td>respect</td>\n",
              "    </tr>\n",
              "    <tr>\n",
              "      <th>3</th>\n",
              "      <td>I am sitting in the back of the bus\\nObserving...</td>\n",
              "      <td>respect</td>\n",
              "    </tr>\n",
              "    <tr>\n",
              "      <th>4</th>\n",
              "      <td>Respect another's wife\\nAs your own mother\\nTr...</td>\n",
              "      <td>respect</td>\n",
              "    </tr>\n",
              "    <tr>\n",
              "      <th>...</th>\n",
              "      <td>...</td>\n",
              "      <td>...</td>\n",
              "    </tr>\n",
              "    <tr>\n",
              "      <th>14329</th>\n",
              "      <td>Something beautiful\\nYou gave me,\\nAlive and\\n...</td>\n",
              "      <td>beautiful</td>\n",
              "    </tr>\n",
              "    <tr>\n",
              "      <th>14330</th>\n",
              "      <td>You are beautiful\\nYour love shines right thro...</td>\n",
              "      <td>beautiful</td>\n",
              "    </tr>\n",
              "    <tr>\n",
              "      <th>14331</th>\n",
              "      <td>If you see me roaming Woodward Avenue\\nDown by...</td>\n",
              "      <td>beautiful</td>\n",
              "    </tr>\n",
              "    <tr>\n",
              "      <th>14332</th>\n",
              "      <td>Crazy Loneliness Hijacks Memory of a Beautiful...</td>\n",
              "      <td>beautiful</td>\n",
              "    </tr>\n",
              "    <tr>\n",
              "      <th>14333</th>\n",
              "      <td>The mountains and glens of Aberfoyle are beaut...</td>\n",
              "      <td>beautiful</td>\n",
              "    </tr>\n",
              "  </tbody>\n",
              "</table>\n",
              "<p>14334 rows × 2 columns</p>\n",
              "</div>\n",
              "      <button class=\"colab-df-convert\" onclick=\"convertToInteractive('df-a57a6d6b-b3ef-4a82-8ec5-5a6b0b2318be')\"\n",
              "              title=\"Convert this dataframe to an interactive table.\"\n",
              "              style=\"display:none;\">\n",
              "        \n",
              "  <svg xmlns=\"http://www.w3.org/2000/svg\" height=\"24px\"viewBox=\"0 0 24 24\"\n",
              "       width=\"24px\">\n",
              "    <path d=\"M0 0h24v24H0V0z\" fill=\"none\"/>\n",
              "    <path d=\"M18.56 5.44l.94 2.06.94-2.06 2.06-.94-2.06-.94-.94-2.06-.94 2.06-2.06.94zm-11 1L8.5 8.5l.94-2.06 2.06-.94-2.06-.94L8.5 2.5l-.94 2.06-2.06.94zm10 10l.94 2.06.94-2.06 2.06-.94-2.06-.94-.94-2.06-.94 2.06-2.06.94z\"/><path d=\"M17.41 7.96l-1.37-1.37c-.4-.4-.92-.59-1.43-.59-.52 0-1.04.2-1.43.59L10.3 9.45l-7.72 7.72c-.78.78-.78 2.05 0 2.83L4 21.41c.39.39.9.59 1.41.59.51 0 1.02-.2 1.41-.59l7.78-7.78 2.81-2.81c.8-.78.8-2.07 0-2.86zM5.41 20L4 18.59l7.72-7.72 1.47 1.35L5.41 20z\"/>\n",
              "  </svg>\n",
              "      </button>\n",
              "      \n",
              "  <style>\n",
              "    .colab-df-container {\n",
              "      display:flex;\n",
              "      flex-wrap:wrap;\n",
              "      gap: 12px;\n",
              "    }\n",
              "\n",
              "    .colab-df-convert {\n",
              "      background-color: #E8F0FE;\n",
              "      border: none;\n",
              "      border-radius: 50%;\n",
              "      cursor: pointer;\n",
              "      display: none;\n",
              "      fill: #1967D2;\n",
              "      height: 32px;\n",
              "      padding: 0 0 0 0;\n",
              "      width: 32px;\n",
              "    }\n",
              "\n",
              "    .colab-df-convert:hover {\n",
              "      background-color: #E2EBFA;\n",
              "      box-shadow: 0px 1px 2px rgba(60, 64, 67, 0.3), 0px 1px 3px 1px rgba(60, 64, 67, 0.15);\n",
              "      fill: #174EA6;\n",
              "    }\n",
              "\n",
              "    [theme=dark] .colab-df-convert {\n",
              "      background-color: #3B4455;\n",
              "      fill: #D2E3FC;\n",
              "    }\n",
              "\n",
              "    [theme=dark] .colab-df-convert:hover {\n",
              "      background-color: #434B5C;\n",
              "      box-shadow: 0px 1px 3px 1px rgba(0, 0, 0, 0.15);\n",
              "      filter: drop-shadow(0px 1px 2px rgba(0, 0, 0, 0.3));\n",
              "      fill: #FFFFFF;\n",
              "    }\n",
              "  </style>\n",
              "\n",
              "      <script>\n",
              "        const buttonEl =\n",
              "          document.querySelector('#df-a57a6d6b-b3ef-4a82-8ec5-5a6b0b2318be button.colab-df-convert');\n",
              "        buttonEl.style.display =\n",
              "          google.colab.kernel.accessAllowed ? 'block' : 'none';\n",
              "\n",
              "        async function convertToInteractive(key) {\n",
              "          const element = document.querySelector('#df-a57a6d6b-b3ef-4a82-8ec5-5a6b0b2318be');\n",
              "          const dataTable =\n",
              "            await google.colab.kernel.invokeFunction('convertToInteractive',\n",
              "                                                     [key], {});\n",
              "          if (!dataTable) return;\n",
              "\n",
              "          const docLinkHtml = 'Like what you see? Visit the ' +\n",
              "            '<a target=\"_blank\" href=https://colab.research.google.com/notebooks/data_table.ipynb>data table notebook</a>'\n",
              "            + ' to learn more about interactive tables.';\n",
              "          element.innerHTML = '';\n",
              "          dataTable['output_type'] = 'display_data';\n",
              "          await google.colab.output.renderOutput(dataTable, element);\n",
              "          const docLink = document.createElement('div');\n",
              "          docLink.innerHTML = docLinkHtml;\n",
              "          element.appendChild(docLink);\n",
              "        }\n",
              "      </script>\n",
              "    </div>\n",
              "  </div>\n",
              "  "
            ]
          },
          "metadata": {},
          "execution_count": 81
        }
      ]
    },
    {
      "cell_type": "code",
      "source": [
        "# Text cleaning (Lemmatization, Stemming, Stop Words, Punctuation) - [9 mins]\n",
        "nltk.download('stopwords')\n",
        "nltk.download('wordnet')\n",
        "nltk.download('omw-1.4')\n",
        "nltk.download('averaged_perceptron_tagger')\n",
        "\n",
        "# https://www.machinelearningplus.com/nlp/lemmatization-examples-python/\n",
        "def get_wordnet_pos(word):\n",
        "    \"\"\"Map POS tag to first character lemmatize() accepts\"\"\"\n",
        "    tag = nltk.pos_tag([word])[0][1][0].upper()\n",
        "    tag_dict = {\"J\": wordnet.ADJ,\n",
        "                \"N\": wordnet.NOUN,\n",
        "                \"V\": wordnet.VERB,\n",
        "                \"R\": wordnet.ADV}\n",
        "\n",
        "    return tag_dict.get(tag, wordnet.NOUN)\n",
        "\n",
        "# https://github.com/miguelfzafra/Latest-News-Classifier/blob/master/0.%20Latest%20News%20Classifier/03.%20Feature%20Engineering/03.%20Feature%20Engineering.ipynb\n",
        "poems_classifier_df = poems_df\n",
        "for idx in range(len(poems_classifier_df.poem)): \n",
        "    poem_clean = poems_classifier_df.poem[idx]\n",
        "\n",
        "    poem_clean = re.split('\\W+', poem_clean.lower())\n",
        "    poem_clean = [w for w in poem_clean if not w in set(stopwords.words('english'))]  # Remove stopwords\n",
        "    \n",
        "    lem = WordNetLemmatizer()\n",
        "    poem_clean = [lem.lemmatize(w, get_wordnet_pos(w)) for w in poem_clean if len(w) > 1]\n",
        "    \n",
        "    poem_clean = ' '.join(poem_clean)\n",
        "    poems_classifier_df.poem[idx] = poem_clean\n",
        "\n",
        "poems_classifier_df"
      ],
      "metadata": {
        "id": "zs3cmJ_CaOL1",
        "outputId": "0314dfde-9973-4c35-d47b-ec40e3f4a44a",
        "colab": {
          "base_uri": "https://localhost:8080/",
          "height": 555
        }
      },
      "execution_count": 82,
      "outputs": [
        {
          "output_type": "stream",
          "name": "stderr",
          "text": [
            "[nltk_data] Downloading package stopwords to /root/nltk_data...\n",
            "[nltk_data]   Package stopwords is already up-to-date!\n",
            "[nltk_data] Downloading package wordnet to /root/nltk_data...\n",
            "[nltk_data]   Package wordnet is already up-to-date!\n",
            "[nltk_data] Downloading package omw-1.4 to /root/nltk_data...\n",
            "[nltk_data]   Package omw-1.4 is already up-to-date!\n",
            "[nltk_data] Downloading package averaged_perceptron_tagger to\n",
            "[nltk_data]     /root/nltk_data...\n",
            "[nltk_data]   Package averaged_perceptron_tagger is already up-to-\n",
            "[nltk_data]       date!\n"
          ]
        },
        {
          "output_type": "error",
          "ename": "KeyboardInterrupt",
          "evalue": "ignored",
          "traceback": [
            "\u001b[0;31m---------------------------------------------------------------------------\u001b[0m",
            "\u001b[0;31mKeyboardInterrupt\u001b[0m                         Traceback (most recent call last)",
            "\u001b[0;32m<ipython-input-82-908365958d82>\u001b[0m in \u001b[0;36m<module>\u001b[0;34m\u001b[0m\n\u001b[1;32m     22\u001b[0m \u001b[0;34m\u001b[0m\u001b[0m\n\u001b[1;32m     23\u001b[0m     \u001b[0mpoem_clean\u001b[0m \u001b[0;34m=\u001b[0m \u001b[0mre\u001b[0m\u001b[0;34m.\u001b[0m\u001b[0msplit\u001b[0m\u001b[0;34m(\u001b[0m\u001b[0;34m'\\W+'\u001b[0m\u001b[0;34m,\u001b[0m \u001b[0mpoem_clean\u001b[0m\u001b[0;34m.\u001b[0m\u001b[0mlower\u001b[0m\u001b[0;34m(\u001b[0m\u001b[0;34m)\u001b[0m\u001b[0;34m)\u001b[0m\u001b[0;34m\u001b[0m\u001b[0;34m\u001b[0m\u001b[0m\n\u001b[0;32m---> 24\u001b[0;31m     \u001b[0mpoem_clean\u001b[0m \u001b[0;34m=\u001b[0m \u001b[0;34m[\u001b[0m\u001b[0mw\u001b[0m \u001b[0;32mfor\u001b[0m \u001b[0mw\u001b[0m \u001b[0;32min\u001b[0m \u001b[0mpoem_clean\u001b[0m \u001b[0;32mif\u001b[0m \u001b[0;32mnot\u001b[0m \u001b[0mw\u001b[0m \u001b[0;32min\u001b[0m \u001b[0mset\u001b[0m\u001b[0;34m(\u001b[0m\u001b[0mstopwords\u001b[0m\u001b[0;34m.\u001b[0m\u001b[0mwords\u001b[0m\u001b[0;34m(\u001b[0m\u001b[0;34m'english'\u001b[0m\u001b[0;34m)\u001b[0m\u001b[0;34m)\u001b[0m\u001b[0;34m]\u001b[0m  \u001b[0;31m# Remove stopwords\u001b[0m\u001b[0;34m\u001b[0m\u001b[0;34m\u001b[0m\u001b[0m\n\u001b[0m\u001b[1;32m     25\u001b[0m \u001b[0;34m\u001b[0m\u001b[0m\n\u001b[1;32m     26\u001b[0m     \u001b[0mlem\u001b[0m \u001b[0;34m=\u001b[0m \u001b[0mWordNetLemmatizer\u001b[0m\u001b[0;34m(\u001b[0m\u001b[0;34m)\u001b[0m\u001b[0;34m\u001b[0m\u001b[0;34m\u001b[0m\u001b[0m\n",
            "\u001b[0;32m<ipython-input-82-908365958d82>\u001b[0m in \u001b[0;36m<listcomp>\u001b[0;34m(.0)\u001b[0m\n\u001b[1;32m     22\u001b[0m \u001b[0;34m\u001b[0m\u001b[0m\n\u001b[1;32m     23\u001b[0m     \u001b[0mpoem_clean\u001b[0m \u001b[0;34m=\u001b[0m \u001b[0mre\u001b[0m\u001b[0;34m.\u001b[0m\u001b[0msplit\u001b[0m\u001b[0;34m(\u001b[0m\u001b[0;34m'\\W+'\u001b[0m\u001b[0;34m,\u001b[0m \u001b[0mpoem_clean\u001b[0m\u001b[0;34m.\u001b[0m\u001b[0mlower\u001b[0m\u001b[0;34m(\u001b[0m\u001b[0;34m)\u001b[0m\u001b[0;34m)\u001b[0m\u001b[0;34m\u001b[0m\u001b[0;34m\u001b[0m\u001b[0m\n\u001b[0;32m---> 24\u001b[0;31m     \u001b[0mpoem_clean\u001b[0m \u001b[0;34m=\u001b[0m \u001b[0;34m[\u001b[0m\u001b[0mw\u001b[0m \u001b[0;32mfor\u001b[0m \u001b[0mw\u001b[0m \u001b[0;32min\u001b[0m \u001b[0mpoem_clean\u001b[0m \u001b[0;32mif\u001b[0m \u001b[0;32mnot\u001b[0m \u001b[0mw\u001b[0m \u001b[0;32min\u001b[0m \u001b[0mset\u001b[0m\u001b[0;34m(\u001b[0m\u001b[0mstopwords\u001b[0m\u001b[0;34m.\u001b[0m\u001b[0mwords\u001b[0m\u001b[0;34m(\u001b[0m\u001b[0;34m'english'\u001b[0m\u001b[0;34m)\u001b[0m\u001b[0;34m)\u001b[0m\u001b[0;34m]\u001b[0m  \u001b[0;31m# Remove stopwords\u001b[0m\u001b[0;34m\u001b[0m\u001b[0;34m\u001b[0m\u001b[0m\n\u001b[0m\u001b[1;32m     25\u001b[0m \u001b[0;34m\u001b[0m\u001b[0m\n\u001b[1;32m     26\u001b[0m     \u001b[0mlem\u001b[0m \u001b[0;34m=\u001b[0m \u001b[0mWordNetLemmatizer\u001b[0m\u001b[0;34m(\u001b[0m\u001b[0;34m)\u001b[0m\u001b[0;34m\u001b[0m\u001b[0;34m\u001b[0m\u001b[0m\n",
            "\u001b[0;32m/usr/local/lib/python3.8/dist-packages/nltk/corpus/reader/wordlist.py\u001b[0m in \u001b[0;36mwords\u001b[0;34m(self, fileids, ignore_lines_startswith)\u001b[0m\n\u001b[1;32m     19\u001b[0m         return [\n\u001b[1;32m     20\u001b[0m             \u001b[0mline\u001b[0m\u001b[0;34m\u001b[0m\u001b[0;34m\u001b[0m\u001b[0m\n\u001b[0;32m---> 21\u001b[0;31m             \u001b[0;32mfor\u001b[0m \u001b[0mline\u001b[0m \u001b[0;32min\u001b[0m \u001b[0mline_tokenize\u001b[0m\u001b[0;34m(\u001b[0m\u001b[0mself\u001b[0m\u001b[0;34m.\u001b[0m\u001b[0mraw\u001b[0m\u001b[0;34m(\u001b[0m\u001b[0mfileids\u001b[0m\u001b[0;34m)\u001b[0m\u001b[0;34m)\u001b[0m\u001b[0;34m\u001b[0m\u001b[0;34m\u001b[0m\u001b[0m\n\u001b[0m\u001b[1;32m     22\u001b[0m             \u001b[0;32mif\u001b[0m \u001b[0;32mnot\u001b[0m \u001b[0mline\u001b[0m\u001b[0;34m.\u001b[0m\u001b[0mstartswith\u001b[0m\u001b[0;34m(\u001b[0m\u001b[0mignore_lines_startswith\u001b[0m\u001b[0;34m)\u001b[0m\u001b[0;34m\u001b[0m\u001b[0;34m\u001b[0m\u001b[0m\n\u001b[1;32m     23\u001b[0m         ]\n",
            "\u001b[0;31mKeyboardInterrupt\u001b[0m: "
          ]
        }
      ]
    },
    {
      "cell_type": "code",
      "source": [
        "categories_dictionary = {\n",
        "\"alone\": \"sad\",\n",
        "\"america\": \"location\",\n",
        "\"angel\": \"religious\",\n",
        "\"anger\": \"evil\",\n",
        "\"animal\": \"animal\",\n",
        "\"baby\": \"family\",\n",
        "\"beach\": \"nature\",\n",
        "\"beautiful\": \"love\",\n",
        "\"beauty\": \"love\",\n",
        "\"believe\": \"inspirational\",\n",
        "\"birth\": \"family\",\n",
        "\"brother\": \"family\",\n",
        "\"butterfly\": \"animal\",\n",
        "\"car\": \"object\",\n",
        "\"carpe diem\": \"inspirational\",\n",
        "\"change\": \"unknown\",\n",
        "\"chicago\": \"location\",\n",
        "\"childhood\": \"family\",\n",
        "\"children\": \"family\",\n",
        "\"christmas\": \"religious\",\n",
        "\"cinderella\": \"unknown\",\n",
        "\"city\": \"location\",\n",
        "\"courage\": \"inspirational\",\n",
        "\"crazy\": \"evil\",\n",
        "\"culture\": \"unknown\",\n",
        "\"dance\": \"activity\",\n",
        "\"dark\": \"sad\",\n",
        "\"daughter\": \"family\",\n",
        "\"death\": \"sad\",\n",
        "\"depression\": \"sad\",\n",
        "\"despair\": \"sad\",\n",
        "\"destiny\": \"inspirational\",\n",
        "\"dream\": \"inspirational\",\n",
        "\"evil\": \"evil\",\n",
        "\"faith\": \"religious\",\n",
        "\"family\": \"family\",\n",
        "\"father\": \"family\",\n",
        "\"fear\": \"evil\",\n",
        "\"fire\": \"nature\",\n",
        "\"food\": \"object\",\n",
        "\"football\": \"object\",\n",
        "\"freedom\": \"inspirational\",\n",
        "\"friend\": \"family\",\n",
        "\"frog\": \"animal\",\n",
        "\"funeral\": \"sad\",\n",
        "\"funny\": \"happy\",\n",
        "\"future\": \"unknown\",\n",
        "\"girl\": \"unknown\",\n",
        "\"god\": \"religious\",\n",
        "\"graduation\": \"unknown\",\n",
        "\"greed\": \"evil\",\n",
        "\"green\": \"object\",\n",
        "\"hair\": \"object\",\n",
        "\"happiness\": \"happy\",\n",
        "\"happy\": \"happy\",\n",
        "\"hate\": \"evil\",\n",
        "\"heaven\": \"religious\",\n",
        "\"hero\": \"inspirational\",\n",
        "\"home\": \"family\",\n",
        "\"hope\": \"inspirational\",\n",
        "\"house\": \"family\",\n",
        "\"hunting\": \"activity\",\n",
        "\"husband\": \"family\",\n",
        "\"identity\": \"unknown\",\n",
        "\"innocence\": \"unknown\",\n",
        "\"january\": \"unknown\",\n",
        "\"joy\": \"happy\",\n",
        "\"june\": \"unknown\",\n",
        "\"justice\": \"inspirational\",\n",
        "\"kiss\": \"love\",\n",
        "\"laughter\": \"happy\",\n",
        "\"life\": \"introspection\",\n",
        "\"lonely\": \"sad\",\n",
        "\"loss\": \"sad\",\n",
        "\"lost\": \"sad\",\n",
        "\"love\": \"love\",\n",
        "\"lust\": \"evil\",\n",
        "\"marriage\": \"love\",\n",
        "\"memory\": \"introspection\",\n",
        "\"mirror\": \"object\",\n",
        "\"money\": \"object\",\n",
        "\"moon\": \"object\",\n",
        "\"mother\": \"family\",\n",
        "\"murder\": \"evil\",\n",
        "\"music\": \"unknown\",\n",
        "\"nature\": \"nature\",\n",
        "\"night\": \"nature\",\n",
        "\"ocean\": \"nature\",\n",
        "\"paris\": \"location\",\n",
        "\"passion\": \"love\",\n",
        "\"peace\": \"happy\",\n",
        "\"pink\": \"object\",\n",
        "\"poem\": \"unknown\",\n",
        "\"poetry\": \"unknown\",\n",
        "\"poverty\": \"sad\",\n",
        "\"power\": \"unknown\",\n",
        "\"racism\": \"unknown\",\n",
        "\"rain\": \"nature\",\n",
        "\"rainbow\": \"nature\",\n",
        "\"red\": \"object\",\n",
        "\"remember\": \"introspection\",\n",
        "\"respect\": \"love\",\n",
        "\"river\": \"nature\",\n",
        "\"romance\": \"love\",\n",
        "\"romantic\": \"love\",\n",
        "\"rose\": \"nature\",\n",
        "\"running\": \"activity\",\n",
        "\"school\": \"activity\",\n",
        "\"sea\": \"nature\",\n",
        "\"sick\": \"sad\",\n",
        "\"silver\": \"object\",\n",
        "\"sister\": \"family\",\n",
        "\"sky\": \"nature\",\n",
        "\"sleep\": \"activity\",\n",
        "\"snake\": \"nature\",\n",
        "\"soldier\": \"unknown\",\n",
        "\"sometimes\": \"unknown\",\n",
        "\"son\": \"family\",\n",
        "\"song\": \"unknown\",\n",
        "\"sorrow\": \"sad\",\n",
        "\"spring\": \"nature\",\n",
        "\"star\": \"nature\",\n",
        "\"success\": \"inspirational\",\n",
        "\"suicide\": \"sad\",\n",
        "\"summer\": \"nature\",\n",
        "\"sun\": \"nature\",\n",
        "\"swimming\": \"activity\",\n",
        "\"sympathy\": \"sad\",\n",
        "\"teacher\": \"activity\",\n",
        "\"thanks\": \"happy\",\n",
        "\"time\": \"introspection\",\n",
        "\"today\": \"unknown\",\n",
        "\"together\": \"love\",\n",
        "\"travel\": \"activity\",\n",
        "\"trust\": \"love\",\n",
        "\"truth\": \"unknown\",\n",
        "\"unknown\": \"unknown\",\n",
        "\"war\": \"evil\",\n",
        "\"warning\": \"evil\",\n",
        "\"water\": \"nature\",\n",
        "\"weather\": \"nature\",\n",
        "\"wedding\": \"love\",\n",
        "\"winter\": \"nature\",\n",
        "\"work\": \"activity\",\n",
        "\"world\": \"nature\",\n",
        "}"
      ],
      "metadata": {
        "id": "_7dimZZIQv4A"
      },
      "execution_count": 83,
      "outputs": []
    },
    {
      "cell_type": "code",
      "source": [
        "for idx,label in enumerate(poems_classifier_df.label):\n",
        "  poems_classifier_df.label[idx]=categories_dictionary[label]\n",
        "poems_classifier_df"
      ],
      "metadata": {
        "id": "Bn3iDkc7Tb2I",
        "outputId": "34d79763-9376-451f-a869-c1573eccfbc1",
        "colab": {
          "base_uri": "https://localhost:8080/",
          "height": 424
        }
      },
      "execution_count": 84,
      "outputs": [
        {
          "output_type": "execute_result",
          "data": {
            "text/plain": [
              "                                                    poem label\n",
              "0      pay respect father mother guide philosopher re...  love\n",
              "1       value virtue priceless treasure sell bought gold  love\n",
              "2      respect respect others show never judge person...  love\n",
              "3      sit back bus observe child play weather gorgeo...  love\n",
              "4      respect another wife mother treat another poss...  love\n",
              "...                                                  ...   ...\n",
              "14329  Something beautiful\\nYou gave me,\\nAlive and\\n...  love\n",
              "14330  You are beautiful\\nYour love shines right thro...  love\n",
              "14331  If you see me roaming Woodward Avenue\\nDown by...  love\n",
              "14332  Crazy Loneliness Hijacks Memory of a Beautiful...  love\n",
              "14333  The mountains and glens of Aberfoyle are beaut...  love\n",
              "\n",
              "[14334 rows x 2 columns]"
            ],
            "text/html": [
              "\n",
              "  <div id=\"df-c9f87d46-b621-42ed-b5dd-0bbaa3a93f12\">\n",
              "    <div class=\"colab-df-container\">\n",
              "      <div>\n",
              "<style scoped>\n",
              "    .dataframe tbody tr th:only-of-type {\n",
              "        vertical-align: middle;\n",
              "    }\n",
              "\n",
              "    .dataframe tbody tr th {\n",
              "        vertical-align: top;\n",
              "    }\n",
              "\n",
              "    .dataframe thead th {\n",
              "        text-align: right;\n",
              "    }\n",
              "</style>\n",
              "<table border=\"1\" class=\"dataframe\">\n",
              "  <thead>\n",
              "    <tr style=\"text-align: right;\">\n",
              "      <th></th>\n",
              "      <th>poem</th>\n",
              "      <th>label</th>\n",
              "    </tr>\n",
              "  </thead>\n",
              "  <tbody>\n",
              "    <tr>\n",
              "      <th>0</th>\n",
              "      <td>pay respect father mother guide philosopher re...</td>\n",
              "      <td>love</td>\n",
              "    </tr>\n",
              "    <tr>\n",
              "      <th>1</th>\n",
              "      <td>value virtue priceless treasure sell bought gold</td>\n",
              "      <td>love</td>\n",
              "    </tr>\n",
              "    <tr>\n",
              "      <th>2</th>\n",
              "      <td>respect respect others show never judge person...</td>\n",
              "      <td>love</td>\n",
              "    </tr>\n",
              "    <tr>\n",
              "      <th>3</th>\n",
              "      <td>sit back bus observe child play weather gorgeo...</td>\n",
              "      <td>love</td>\n",
              "    </tr>\n",
              "    <tr>\n",
              "      <th>4</th>\n",
              "      <td>respect another wife mother treat another poss...</td>\n",
              "      <td>love</td>\n",
              "    </tr>\n",
              "    <tr>\n",
              "      <th>...</th>\n",
              "      <td>...</td>\n",
              "      <td>...</td>\n",
              "    </tr>\n",
              "    <tr>\n",
              "      <th>14329</th>\n",
              "      <td>Something beautiful\\nYou gave me,\\nAlive and\\n...</td>\n",
              "      <td>love</td>\n",
              "    </tr>\n",
              "    <tr>\n",
              "      <th>14330</th>\n",
              "      <td>You are beautiful\\nYour love shines right thro...</td>\n",
              "      <td>love</td>\n",
              "    </tr>\n",
              "    <tr>\n",
              "      <th>14331</th>\n",
              "      <td>If you see me roaming Woodward Avenue\\nDown by...</td>\n",
              "      <td>love</td>\n",
              "    </tr>\n",
              "    <tr>\n",
              "      <th>14332</th>\n",
              "      <td>Crazy Loneliness Hijacks Memory of a Beautiful...</td>\n",
              "      <td>love</td>\n",
              "    </tr>\n",
              "    <tr>\n",
              "      <th>14333</th>\n",
              "      <td>The mountains and glens of Aberfoyle are beaut...</td>\n",
              "      <td>love</td>\n",
              "    </tr>\n",
              "  </tbody>\n",
              "</table>\n",
              "<p>14334 rows × 2 columns</p>\n",
              "</div>\n",
              "      <button class=\"colab-df-convert\" onclick=\"convertToInteractive('df-c9f87d46-b621-42ed-b5dd-0bbaa3a93f12')\"\n",
              "              title=\"Convert this dataframe to an interactive table.\"\n",
              "              style=\"display:none;\">\n",
              "        \n",
              "  <svg xmlns=\"http://www.w3.org/2000/svg\" height=\"24px\"viewBox=\"0 0 24 24\"\n",
              "       width=\"24px\">\n",
              "    <path d=\"M0 0h24v24H0V0z\" fill=\"none\"/>\n",
              "    <path d=\"M18.56 5.44l.94 2.06.94-2.06 2.06-.94-2.06-.94-.94-2.06-.94 2.06-2.06.94zm-11 1L8.5 8.5l.94-2.06 2.06-.94-2.06-.94L8.5 2.5l-.94 2.06-2.06.94zm10 10l.94 2.06.94-2.06 2.06-.94-2.06-.94-.94-2.06-.94 2.06-2.06.94z\"/><path d=\"M17.41 7.96l-1.37-1.37c-.4-.4-.92-.59-1.43-.59-.52 0-1.04.2-1.43.59L10.3 9.45l-7.72 7.72c-.78.78-.78 2.05 0 2.83L4 21.41c.39.39.9.59 1.41.59.51 0 1.02-.2 1.41-.59l7.78-7.78 2.81-2.81c.8-.78.8-2.07 0-2.86zM5.41 20L4 18.59l7.72-7.72 1.47 1.35L5.41 20z\"/>\n",
              "  </svg>\n",
              "      </button>\n",
              "      \n",
              "  <style>\n",
              "    .colab-df-container {\n",
              "      display:flex;\n",
              "      flex-wrap:wrap;\n",
              "      gap: 12px;\n",
              "    }\n",
              "\n",
              "    .colab-df-convert {\n",
              "      background-color: #E8F0FE;\n",
              "      border: none;\n",
              "      border-radius: 50%;\n",
              "      cursor: pointer;\n",
              "      display: none;\n",
              "      fill: #1967D2;\n",
              "      height: 32px;\n",
              "      padding: 0 0 0 0;\n",
              "      width: 32px;\n",
              "    }\n",
              "\n",
              "    .colab-df-convert:hover {\n",
              "      background-color: #E2EBFA;\n",
              "      box-shadow: 0px 1px 2px rgba(60, 64, 67, 0.3), 0px 1px 3px 1px rgba(60, 64, 67, 0.15);\n",
              "      fill: #174EA6;\n",
              "    }\n",
              "\n",
              "    [theme=dark] .colab-df-convert {\n",
              "      background-color: #3B4455;\n",
              "      fill: #D2E3FC;\n",
              "    }\n",
              "\n",
              "    [theme=dark] .colab-df-convert:hover {\n",
              "      background-color: #434B5C;\n",
              "      box-shadow: 0px 1px 3px 1px rgba(0, 0, 0, 0.15);\n",
              "      filter: drop-shadow(0px 1px 2px rgba(0, 0, 0, 0.3));\n",
              "      fill: #FFFFFF;\n",
              "    }\n",
              "  </style>\n",
              "\n",
              "      <script>\n",
              "        const buttonEl =\n",
              "          document.querySelector('#df-c9f87d46-b621-42ed-b5dd-0bbaa3a93f12 button.colab-df-convert');\n",
              "        buttonEl.style.display =\n",
              "          google.colab.kernel.accessAllowed ? 'block' : 'none';\n",
              "\n",
              "        async function convertToInteractive(key) {\n",
              "          const element = document.querySelector('#df-c9f87d46-b621-42ed-b5dd-0bbaa3a93f12');\n",
              "          const dataTable =\n",
              "            await google.colab.kernel.invokeFunction('convertToInteractive',\n",
              "                                                     [key], {});\n",
              "          if (!dataTable) return;\n",
              "\n",
              "          const docLinkHtml = 'Like what you see? Visit the ' +\n",
              "            '<a target=\"_blank\" href=https://colab.research.google.com/notebooks/data_table.ipynb>data table notebook</a>'\n",
              "            + ' to learn more about interactive tables.';\n",
              "          element.innerHTML = '';\n",
              "          dataTable['output_type'] = 'display_data';\n",
              "          await google.colab.output.renderOutput(dataTable, element);\n",
              "          const docLink = document.createElement('div');\n",
              "          docLink.innerHTML = docLinkHtml;\n",
              "          element.appendChild(docLink);\n",
              "        }\n",
              "      </script>\n",
              "    </div>\n",
              "  </div>\n",
              "  "
            ]
          },
          "metadata": {},
          "execution_count": 84
        }
      ]
    },
    {
      "cell_type": "code",
      "source": [
        "import matplotlib.pyplot as plt\n",
        "fig, ax = plt.subplots()\n",
        "poems_classifier_df['label'].value_counts().plot(ax=ax, kind='bar')"
      ],
      "metadata": {
        "id": "svE0UuVfUCvQ",
        "outputId": "45cb031f-d6ea-4b35-e57a-ed01c1bbbd8a",
        "colab": {
          "base_uri": "https://localhost:8080/",
          "height": 338
        }
      },
      "execution_count": 85,
      "outputs": [
        {
          "output_type": "execute_result",
          "data": {
            "text/plain": [
              "<matplotlib.axes._subplots.AxesSubplot at 0x7f68d6d55220>"
            ]
          },
          "metadata": {},
          "execution_count": 85
        },
        {
          "output_type": "display_data",
          "data": {
            "text/plain": [
              "<Figure size 432x288 with 1 Axes>"
            ],
            "image/png": "[encoded data removed]"
          },
          "metadata": {
            "needs_background": "light"
          }
        }
      ]
    },
    {
      "cell_type": "code",
      "source": [
        "counts=[x for x in poems_classifier_df['label'].value_counts()]\n",
        "print(sum(counts))\n",
        "sum(counts)/len(counts)"
      ],
      "metadata": {
        "id": "cMFoyTI6UC5R",
        "outputId": "71393e36-25e8-404b-be47-cb6687db15d0",
        "colab": {
          "base_uri": "https://localhost:8080/"
        }
      },
      "execution_count": 86,
      "outputs": [
        {
          "output_type": "stream",
          "name": "stdout",
          "text": [
            "14334\n"
          ]
        },
        {
          "output_type": "execute_result",
          "data": {
            "text/plain": [
              "1023.8571428571429"
            ]
          },
          "metadata": {},
          "execution_count": 86
        }
      ]
    },
    {
      "cell_type": "code",
      "source": [
        "poems_classifier_df.to_pickle(\"df.pkl\")\n"
      ],
      "metadata": {
        "id": "CFSIB4yEWlvJ"
      },
      "execution_count": 87,
      "outputs": []
    },
    {
      "cell_type": "markdown",
      "source": [
        "Notes"
      ],
      "metadata": {
        "id": "GQIRTjt0SXLi"
      }
    },
    {
      "cell_type": "code",
      "source": [
        "with open(\"/content/topics/marriage/MarriagePoemsMarriageSongPoembyYehudahHaLevi.txt\") as f:\n",
        "  lines = f.readlines()\n",
        "\n",
        "print(lines)"
      ],
      "metadata": {
        "colab": {
          "base_uri": "https://localhost:8080/"
        },
        "id": "hqpaEkUWjSeo",
        "outputId": "1bfaadcb-d56f-4e33-9db0-04a25c379bf8"
      },
      "execution_count": null,
      "outputs": [
        {
          "output_type": "stream",
          "name": "stdout",
          "text": [
            "['Fair is my dove, my loved one,\\n', 'None can with her compare:\\n', 'Yea, comely as Jerusalem,\\n', 'Like unto Tirzah fair.\\n', 'Shall she in tents unstable\\n', 'A wanderer abide,\\n', 'While in my heart awaits her\\n', 'A dwelling deep and wide?\\n', 'The magic of her beauty\\n', 'Has stolen my heart away:\\n', \"Not Egypt's wise enchanters\\n\", 'Held half such wondrous sway.\\n', 'Even as the changing opal\\n', 'In varying luster glows,\\n', 'Her face at every moment\\n', 'New charms and sweetness shows.\\n', 'White lilies and red roses\\n', 'There blossom on one stem:\\n', 'Her lips of crimson berries\\n', 'Tempt mine to gather them.\\n', 'By dusky tresses shaded\\n', 'Her brow gleams fair and pale,\\n', 'Like to the sun at twilight,\\n', 'Behind a cloudy veil.\\n', 'Her beauty shames the day-star,\\n', 'And makes the darkness light:\\n', 'Day in her radiant presence\\n', 'Grows seven times more bright.\\n', 'This is a lonely lover!\\n', 'Come, fair one, to his side,\\n', 'That happy be together\\n', 'The bridegroom and the bride!\\n', 'The hour of love approaches\\n', 'That shall make one of twain:\\n', 'Soon may be thus united\\n', \"All Israel's hosts again!\"]\n"
          ]
        }
      ]
    },
    {
      "cell_type": "code",
      "source": [
        "# This is a sentence ->{'<s>', 'This', 'is', 'a', 'sentence', '</s>'}\n",
        "\n",
        "# corpus: body of text (pl. corpora)\n",
        "# token: \"word\""
      ],
      "metadata": {
        "id": "N_JHIjI_dwhv"
      },
      "execution_count": null,
      "outputs": []
    }
  ]
}