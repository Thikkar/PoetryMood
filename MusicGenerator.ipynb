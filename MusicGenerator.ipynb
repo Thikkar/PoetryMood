{
  "nbformat": 4,
  "nbformat_minor": 0,
  "metadata": {
    "colab": {
      "provenance": [],
      "include_colab_link": true
    },
    "kernelspec": {
      "name": "python3",
      "display_name": "Python 3"
    },
    "language_info": {
      "name": "python"
    }
  },
  "cells": [
    {
      "cell_type": "markdown",
      "metadata": {
        "id": "view-in-github",
        "colab_type": "text"
      },
      "source": [
        "<a href=\"https://colab.research.google.com/github/Thikkar/music-generator/blob/main/MusicGenerator.ipynb\" target=\"_parent\"><img src=\"https://colab.research.google.com/assets/colab-badge.svg\" alt=\"Open In Colab\"/></a>"
      ]
    },
    {
      "cell_type": "markdown",
      "source": [
        "## 1. Set-up"
      ],
      "metadata": {
        "id": "2vD-1sErsoLR"
      }
    },
    {
      "cell_type": "markdown",
      "source": [
        "1.1 Scripts"
      ],
      "metadata": {
        "id": "OUTZPo6Wdq76"
      }
    },
    {
      "cell_type": "code",
      "execution_count": 15,
      "metadata": {
        "colab": {
          "base_uri": "https://localhost:8080/"
        },
        "id": "QZDfnj5edmpZ",
        "outputId": "fa1b9b2b-55cf-4032-e9b3-505743d1a3a5"
      },
      "outputs": [
        {
          "output_type": "stream",
          "name": "stdout",
          "text": [
            "Looking in indexes: https://pypi.org/simple, https://us-python.pkg.dev/colab-wheels/public/simple/\n",
            "Requirement already satisfied: kaggle in /usr/local/lib/python3.8/dist-packages (1.5.12)\n",
            "Requirement already satisfied: urllib3 in /usr/local/lib/python3.8/dist-packages (from kaggle) (1.24.3)\n",
            "Requirement already satisfied: requests in /usr/local/lib/python3.8/dist-packages (from kaggle) (2.25.1)\n",
            "Requirement already satisfied: certifi in /usr/local/lib/python3.8/dist-packages (from kaggle) (2022.12.7)\n",
            "Requirement already satisfied: six>=1.10 in /usr/local/lib/python3.8/dist-packages (from kaggle) (1.15.0)\n",
            "Requirement already satisfied: tqdm in /usr/local/lib/python3.8/dist-packages (from kaggle) (4.64.1)\n",
            "Requirement already satisfied: python-dateutil in /usr/local/lib/python3.8/dist-packages (from kaggle) (2.8.2)\n",
            "Requirement already satisfied: python-slugify in /usr/local/lib/python3.8/dist-packages (from kaggle) (8.0.0)\n",
            "Requirement already satisfied: text-unidecode>=1.3 in /usr/local/lib/python3.8/dist-packages (from python-slugify->kaggle) (1.3)\n",
            "Requirement already satisfied: chardet<5,>=3.0.2 in /usr/local/lib/python3.8/dist-packages (from requests->kaggle) (4.0.0)\n",
            "Requirement already satisfied: idna<3,>=2.5 in /usr/local/lib/python3.8/dist-packages (from requests->kaggle) (2.10)\n"
          ]
        }
      ],
      "source": [
        "! pip install kaggle"
      ]
    },
    {
      "cell_type": "code",
      "source": [
        "! mkdir  ~/.kaggle"
      ],
      "metadata": {
        "id": "OSb91TLLgA5u"
      },
      "execution_count": 16,
      "outputs": []
    },
    {
      "cell_type": "code",
      "source": [
        "! cp kaggle.json ~/.kaggle/"
      ],
      "metadata": {
        "id": "mGlp0wnRgdMA"
      },
      "execution_count": 17,
      "outputs": []
    },
    {
      "cell_type": "code",
      "source": [
        "! chmod 600 ~/.kaggle/kaggle.json"
      ],
      "metadata": {
        "id": "uABvnZcfg3ve"
      },
      "execution_count": 18,
      "outputs": []
    },
    {
      "cell_type": "code",
      "source": [
        "! kaggle datasets download -d michaelarman/poemsdataset"
      ],
      "metadata": {
        "colab": {
          "base_uri": "https://localhost:8080/"
        },
        "id": "qBA21jqWhBIo",
        "outputId": "0429d0ab-b7bc-4a55-bdc9-8f2e5ab55c90"
      },
      "execution_count": 19,
      "outputs": [
        {
          "output_type": "stream",
          "name": "stdout",
          "text": [
            "Downloading poemsdataset.zip to /content\n",
            " 32% 5.00M/15.5M [00:00<00:00, 34.6MB/s]\n",
            "100% 15.5M/15.5M [00:00<00:00, 67.3MB/s]\n"
          ]
        }
      ]
    },
    {
      "cell_type": "code",
      "source": [
        "! unzip poemsdataset.zip > out.txt"
      ],
      "metadata": {
        "colab": {
          "base_uri": "https://localhost:8080/"
        },
        "id": "VpsTim0WhxQe",
        "outputId": "de189651-a436-4ce9-d990-5ddc3769731d"
      },
      "execution_count": 20,
      "outputs": [
        {
          "output_type": "stream",
          "name": "stdout",
          "text": [
            "error:  cannot create topics/racism/RacismPoemsTranslationOfRacismIsAroundMeEverywhereByFrancisDugganржЖржорж░ржЪрж░ржкрж╢ржЫрзЬрзЯржЖржЫржЬрждржмржжржмрж╖ржорж▓ржлрж░ржирж╕рж╕ржбржЧржиPoembyAlamSayed.txt\n",
            "        File name too long\n"
          ]
        }
      ]
    },
    {
      "cell_type": "markdown",
      "source": [
        "1.2 Imports"
      ],
      "metadata": {
        "id": "-qIMpCfDdsqB"
      }
    },
    {
      "cell_type": "code",
      "source": [
        "import pandas as pd\n",
        "import numpy as np\n",
        "import os\n",
        "import re\n",
        "import nltk\n",
        "import matplotlib.pyplot as plt\n",
        "from nltk.corpus import stopwords\n",
        "from nltk.corpus import wordnet\n",
        "from nltk.stem import WordNetLemmatizer\n",
        "from sklearn.feature_extraction.text import TfidfVectorizer\n",
        "from sklearn.preprocessing import LabelEncoder\n",
        "from sklearn.model_selection import train_test_split"
      ],
      "metadata": {
        "id": "BBFR3mHYduMP"
      },
      "execution_count": 61,
      "outputs": []
    },
    {
      "cell_type": "markdown",
      "source": [
        "## 2. Data Pre-processing"
      ],
      "metadata": {
        "id": "EKOKsoh1dvfZ"
      }
    },
    {
      "cell_type": "markdown",
      "source": [
        "2.1 Load Data"
      ],
      "metadata": {
        "id": "NdDC2ME7syCf"
      }
    },
    {
      "cell_type": "code",
      "source": [
        "# Load data into pandas dataframe - [1 sec]\n",
        "data = []\n",
        "\n",
        "for root, dirs, files in os.walk(\"/content/topics\"):\n",
        "    label = os.path.basename(root)\n",
        "    \n",
        "    for file in files:\n",
        "      path = root + '/' + file\n",
        "      poem = []\n",
        "      with open(path) as f:\n",
        "        poem = f.readlines()\n",
        "\n",
        "      poem_text = ''.join(poem)\n",
        "      pair = (poem_text, label)\n",
        "      data.append(pair)\n",
        "\n",
        "poems_df = pd.DataFrame(data, columns=['poem', 'label'])\n",
        "poems_df"
      ],
      "metadata": {
        "colab": {
          "base_uri": "https://localhost:8080/",
          "height": 424
        },
        "id": "b0iLmdFiR9K2",
        "outputId": "7772c162-0ba7-4ef8-e856-a9f8e2f35b6d"
      },
      "execution_count": 22,
      "outputs": [
        {
          "output_type": "execute_result",
          "data": {
            "text/plain": [
              "                                                    poem      label\n",
              "0      Pay respect to\\nYour Father\\nYour Mother\\nTo y...    respect\n",
              "1      Is a valued virtue,\\nPriceless than any treasu...    respect\n",
              "2      If You respect yourself respect to others you'...    respect\n",
              "3      I am sitting in the back of the bus\\nObserving...    respect\n",
              "4      Respect another's wife\\nAs your own mother\\nTr...    respect\n",
              "...                                                  ...        ...\n",
              "14329  Something beautiful\\nYou gave me,\\nAlive and\\n...  beautiful\n",
              "14330  You are beautiful\\nYour love shines right thro...  beautiful\n",
              "14331  If you see me roaming Woodward Avenue\\nDown by...  beautiful\n",
              "14332  Crazy Loneliness Hijacks Memory of a Beautiful...  beautiful\n",
              "14333  The mountains and glens of Aberfoyle are beaut...  beautiful\n",
              "\n",
              "[14334 rows x 2 columns]"
            ],
            "text/html": [
              "\n",
              "  <div id=\"df-8f25766c-a7f7-4867-a658-360d9b27e6ea\">\n",
              "    <div class=\"colab-df-container\">\n",
              "      <div>\n",
              "<style scoped>\n",
              "    .dataframe tbody tr th:only-of-type {\n",
              "        vertical-align: middle;\n",
              "    }\n",
              "\n",
              "    .dataframe tbody tr th {\n",
              "        vertical-align: top;\n",
              "    }\n",
              "\n",
              "    .dataframe thead th {\n",
              "        text-align: right;\n",
              "    }\n",
              "</style>\n",
              "<table border=\"1\" class=\"dataframe\">\n",
              "  <thead>\n",
              "    <tr style=\"text-align: right;\">\n",
              "      <th></th>\n",
              "      <th>poem</th>\n",
              "      <th>label</th>\n",
              "    </tr>\n",
              "  </thead>\n",
              "  <tbody>\n",
              "    <tr>\n",
              "      <th>0</th>\n",
              "      <td>Pay respect to\\nYour Father\\nYour Mother\\nTo y...</td>\n",
              "      <td>respect</td>\n",
              "    </tr>\n",
              "    <tr>\n",
              "      <th>1</th>\n",
              "      <td>Is a valued virtue,\\nPriceless than any treasu...</td>\n",
              "      <td>respect</td>\n",
              "    </tr>\n",
              "    <tr>\n",
              "      <th>2</th>\n",
              "      <td>If You respect yourself respect to others you'...</td>\n",
              "      <td>respect</td>\n",
              "    </tr>\n",
              "    <tr>\n",
              "      <th>3</th>\n",
              "      <td>I am sitting in the back of the bus\\nObserving...</td>\n",
              "      <td>respect</td>\n",
              "    </tr>\n",
              "    <tr>\n",
              "      <th>4</th>\n",
              "      <td>Respect another's wife\\nAs your own mother\\nTr...</td>\n",
              "      <td>respect</td>\n",
              "    </tr>\n",
              "    <tr>\n",
              "      <th>...</th>\n",
              "      <td>...</td>\n",
              "      <td>...</td>\n",
              "    </tr>\n",
              "    <tr>\n",
              "      <th>14329</th>\n",
              "      <td>Something beautiful\\nYou gave me,\\nAlive and\\n...</td>\n",
              "      <td>beautiful</td>\n",
              "    </tr>\n",
              "    <tr>\n",
              "      <th>14330</th>\n",
              "      <td>You are beautiful\\nYour love shines right thro...</td>\n",
              "      <td>beautiful</td>\n",
              "    </tr>\n",
              "    <tr>\n",
              "      <th>14331</th>\n",
              "      <td>If you see me roaming Woodward Avenue\\nDown by...</td>\n",
              "      <td>beautiful</td>\n",
              "    </tr>\n",
              "    <tr>\n",
              "      <th>14332</th>\n",
              "      <td>Crazy Loneliness Hijacks Memory of a Beautiful...</td>\n",
              "      <td>beautiful</td>\n",
              "    </tr>\n",
              "    <tr>\n",
              "      <th>14333</th>\n",
              "      <td>The mountains and glens of Aberfoyle are beaut...</td>\n",
              "      <td>beautiful</td>\n",
              "    </tr>\n",
              "  </tbody>\n",
              "</table>\n",
              "<p>14334 rows × 2 columns</p>\n",
              "</div>\n",
              "      <button class=\"colab-df-convert\" onclick=\"convertToInteractive('df-8f25766c-a7f7-4867-a658-360d9b27e6ea')\"\n",
              "              title=\"Convert this dataframe to an interactive table.\"\n",
              "              style=\"display:none;\">\n",
              "        \n",
              "  <svg xmlns=\"http://www.w3.org/2000/svg\" height=\"24px\"viewBox=\"0 0 24 24\"\n",
              "       width=\"24px\">\n",
              "    <path d=\"M0 0h24v24H0V0z\" fill=\"none\"/>\n",
              "    <path d=\"M18.56 5.44l.94 2.06.94-2.06 2.06-.94-2.06-.94-.94-2.06-.94 2.06-2.06.94zm-11 1L8.5 8.5l.94-2.06 2.06-.94-2.06-.94L8.5 2.5l-.94 2.06-2.06.94zm10 10l.94 2.06.94-2.06 2.06-.94-2.06-.94-.94-2.06-.94 2.06-2.06.94z\"/><path d=\"M17.41 7.96l-1.37-1.37c-.4-.4-.92-.59-1.43-.59-.52 0-1.04.2-1.43.59L10.3 9.45l-7.72 7.72c-.78.78-.78 2.05 0 2.83L4 21.41c.39.39.9.59 1.41.59.51 0 1.02-.2 1.41-.59l7.78-7.78 2.81-2.81c.8-.78.8-2.07 0-2.86zM5.41 20L4 18.59l7.72-7.72 1.47 1.35L5.41 20z\"/>\n",
              "  </svg>\n",
              "      </button>\n",
              "      \n",
              "  <style>\n",
              "    .colab-df-container {\n",
              "      display:flex;\n",
              "      flex-wrap:wrap;\n",
              "      gap: 12px;\n",
              "    }\n",
              "\n",
              "    .colab-df-convert {\n",
              "      background-color: #E8F0FE;\n",
              "      border: none;\n",
              "      border-radius: 50%;\n",
              "      cursor: pointer;\n",
              "      display: none;\n",
              "      fill: #1967D2;\n",
              "      height: 32px;\n",
              "      padding: 0 0 0 0;\n",
              "      width: 32px;\n",
              "    }\n",
              "\n",
              "    .colab-df-convert:hover {\n",
              "      background-color: #E2EBFA;\n",
              "      box-shadow: 0px 1px 2px rgba(60, 64, 67, 0.3), 0px 1px 3px 1px rgba(60, 64, 67, 0.15);\n",
              "      fill: #174EA6;\n",
              "    }\n",
              "\n",
              "    [theme=dark] .colab-df-convert {\n",
              "      background-color: #3B4455;\n",
              "      fill: #D2E3FC;\n",
              "    }\n",
              "\n",
              "    [theme=dark] .colab-df-convert:hover {\n",
              "      background-color: #434B5C;\n",
              "      box-shadow: 0px 1px 3px 1px rgba(0, 0, 0, 0.15);\n",
              "      filter: drop-shadow(0px 1px 2px rgba(0, 0, 0, 0.3));\n",
              "      fill: #FFFFFF;\n",
              "    }\n",
              "  </style>\n",
              "\n",
              "      <script>\n",
              "        const buttonEl =\n",
              "          document.querySelector('#df-8f25766c-a7f7-4867-a658-360d9b27e6ea button.colab-df-convert');\n",
              "        buttonEl.style.display =\n",
              "          google.colab.kernel.accessAllowed ? 'block' : 'none';\n",
              "\n",
              "        async function convertToInteractive(key) {\n",
              "          const element = document.querySelector('#df-8f25766c-a7f7-4867-a658-360d9b27e6ea');\n",
              "          const dataTable =\n",
              "            await google.colab.kernel.invokeFunction('convertToInteractive',\n",
              "                                                     [key], {});\n",
              "          if (!dataTable) return;\n",
              "\n",
              "          const docLinkHtml = 'Like what you see? Visit the ' +\n",
              "            '<a target=\"_blank\" href=https://colab.research.google.com/notebooks/data_table.ipynb>data table notebook</a>'\n",
              "            + ' to learn more about interactive tables.';\n",
              "          element.innerHTML = '';\n",
              "          dataTable['output_type'] = 'display_data';\n",
              "          await google.colab.output.renderOutput(dataTable, element);\n",
              "          const docLink = document.createElement('div');\n",
              "          docLink.innerHTML = docLinkHtml;\n",
              "          element.appendChild(docLink);\n",
              "        }\n",
              "      </script>\n",
              "    </div>\n",
              "  </div>\n",
              "  "
            ]
          },
          "metadata": {},
          "execution_count": 22
        }
      ]
    },
    {
      "cell_type": "markdown",
      "source": [
        "2.2 Text Cleaning and Simplification"
      ],
      "metadata": {
        "id": "tyqLft7Vs1CL"
      }
    },
    {
      "cell_type": "code",
      "source": [
        "# Text cleaning (Lemmatization, Stemming, Stop Words, Punctuation) - [10 mins]\n",
        "nltk.download('stopwords')\n",
        "nltk.download('wordnet')\n",
        "nltk.download('omw-1.4')\n",
        "nltk.download('averaged_perceptron_tagger')\n",
        "\n",
        "# https://www.machinelearningplus.com/nlp/lemmatization-examples-python/\n",
        "def get_wordnet_pos(word):\n",
        "    tag = nltk.pos_tag([word])[0][1][0].upper()\n",
        "    tag_dict = {\"J\": wordnet.ADJ,\n",
        "                \"N\": wordnet.NOUN,\n",
        "                \"V\": wordnet.VERB,\n",
        "                \"R\": wordnet.ADV}\n",
        "\n",
        "    return tag_dict.get(tag, wordnet.NOUN)\n",
        "\n",
        "# https://github.com/miguelfzafra/Latest-News-Classifier/blob/master/0.%20Latest%20News%20Classifier/03.%20Feature%20Engineering/03.%20Feature%20Engineering.ipynb\n",
        "poems_classifier_df = poems_df\n",
        "for idx in range(len(poems_classifier_df.poem)): \n",
        "    poem_clean = poems_classifier_df.poem[idx]\n",
        "\n",
        "    poem_clean = re.split('\\W+', poem_clean.lower())\n",
        "    poem_clean = [w for w in poem_clean if not w in set(stopwords.words('english'))]  # Remove stopwords\n",
        "    \n",
        "    lem = WordNetLemmatizer()\n",
        "    poem_clean = [lem.lemmatize(w, get_wordnet_pos(w)) for w in poem_clean if len(w) > 1]\n",
        "    \n",
        "    poem_clean = ' '.join(poem_clean)\n",
        "    poems_classifier_df.poem[idx] = poem_clean\n",
        "\n",
        "poems_classifier_df"
      ],
      "metadata": {
        "id": "zs3cmJ_CaOL1",
        "outputId": "ce8960dd-8e52-4027-e4f3-1570b85c9448",
        "colab": {
          "base_uri": "https://localhost:8080/",
          "height": 545
        }
      },
      "execution_count": 24,
      "outputs": [
        {
          "output_type": "stream",
          "name": "stderr",
          "text": [
            "[nltk_data] Downloading package stopwords to /root/nltk_data...\n",
            "[nltk_data]   Unzipping corpora/stopwords.zip.\n",
            "[nltk_data] Downloading package wordnet to /root/nltk_data...\n",
            "[nltk_data] Downloading package omw-1.4 to /root/nltk_data...\n",
            "[nltk_data] Downloading package averaged_perceptron_tagger to\n",
            "[nltk_data]     /root/nltk_data...\n",
            "[nltk_data]   Unzipping taggers/averaged_perceptron_tagger.zip.\n"
          ]
        },
        {
          "output_type": "execute_result",
          "data": {
            "text/plain": [
              "                                                    poem      label\n",
              "0      pay respect father mother guide philosopher re...    respect\n",
              "1       value virtue priceless treasure sell bought gold    respect\n",
              "2      respect respect others show never judge person...    respect\n",
              "3      sit back bus observe child play weather gorgeo...    respect\n",
              "4      respect another wife mother treat another poss...    respect\n",
              "...                                                  ...        ...\n",
              "14329  something beautiful give alive need care thoug...  beautiful\n",
              "14330  beautiful love shine right every time hear nam...  beautiful\n",
              "14331  see roam woodward avenue majestic theater hum ...  beautiful\n",
              "14332  crazy loneliness hijack memory beautiful girl ...  beautiful\n",
              "14333  mountain glen aberfoyle beautiful sight likewi...  beautiful\n",
              "\n",
              "[14334 rows x 2 columns]"
            ],
            "text/html": [
              "\n",
              "  <div id=\"df-c2f9740f-3076-4933-be7d-fa19d72ec1a2\">\n",
              "    <div class=\"colab-df-container\">\n",
              "      <div>\n",
              "<style scoped>\n",
              "    .dataframe tbody tr th:only-of-type {\n",
              "        vertical-align: middle;\n",
              "    }\n",
              "\n",
              "    .dataframe tbody tr th {\n",
              "        vertical-align: top;\n",
              "    }\n",
              "\n",
              "    .dataframe thead th {\n",
              "        text-align: right;\n",
              "    }\n",
              "</style>\n",
              "<table border=\"1\" class=\"dataframe\">\n",
              "  <thead>\n",
              "    <tr style=\"text-align: right;\">\n",
              "      <th></th>\n",
              "      <th>poem</th>\n",
              "      <th>label</th>\n",
              "    </tr>\n",
              "  </thead>\n",
              "  <tbody>\n",
              "    <tr>\n",
              "      <th>0</th>\n",
              "      <td>pay respect father mother guide philosopher re...</td>\n",
              "      <td>respect</td>\n",
              "    </tr>\n",
              "    <tr>\n",
              "      <th>1</th>\n",
              "      <td>value virtue priceless treasure sell bought gold</td>\n",
              "      <td>respect</td>\n",
              "    </tr>\n",
              "    <tr>\n",
              "      <th>2</th>\n",
              "      <td>respect respect others show never judge person...</td>\n",
              "      <td>respect</td>\n",
              "    </tr>\n",
              "    <tr>\n",
              "      <th>3</th>\n",
              "      <td>sit back bus observe child play weather gorgeo...</td>\n",
              "      <td>respect</td>\n",
              "    </tr>\n",
              "    <tr>\n",
              "      <th>4</th>\n",
              "      <td>respect another wife mother treat another poss...</td>\n",
              "      <td>respect</td>\n",
              "    </tr>\n",
              "    <tr>\n",
              "      <th>...</th>\n",
              "      <td>...</td>\n",
              "      <td>...</td>\n",
              "    </tr>\n",
              "    <tr>\n",
              "      <th>14329</th>\n",
              "      <td>something beautiful give alive need care thoug...</td>\n",
              "      <td>beautiful</td>\n",
              "    </tr>\n",
              "    <tr>\n",
              "      <th>14330</th>\n",
              "      <td>beautiful love shine right every time hear nam...</td>\n",
              "      <td>beautiful</td>\n",
              "    </tr>\n",
              "    <tr>\n",
              "      <th>14331</th>\n",
              "      <td>see roam woodward avenue majestic theater hum ...</td>\n",
              "      <td>beautiful</td>\n",
              "    </tr>\n",
              "    <tr>\n",
              "      <th>14332</th>\n",
              "      <td>crazy loneliness hijack memory beautiful girl ...</td>\n",
              "      <td>beautiful</td>\n",
              "    </tr>\n",
              "    <tr>\n",
              "      <th>14333</th>\n",
              "      <td>mountain glen aberfoyle beautiful sight likewi...</td>\n",
              "      <td>beautiful</td>\n",
              "    </tr>\n",
              "  </tbody>\n",
              "</table>\n",
              "<p>14334 rows × 2 columns</p>\n",
              "</div>\n",
              "      <button class=\"colab-df-convert\" onclick=\"convertToInteractive('df-c2f9740f-3076-4933-be7d-fa19d72ec1a2')\"\n",
              "              title=\"Convert this dataframe to an interactive table.\"\n",
              "              style=\"display:none;\">\n",
              "        \n",
              "  <svg xmlns=\"http://www.w3.org/2000/svg\" height=\"24px\"viewBox=\"0 0 24 24\"\n",
              "       width=\"24px\">\n",
              "    <path d=\"M0 0h24v24H0V0z\" fill=\"none\"/>\n",
              "    <path d=\"M18.56 5.44l.94 2.06.94-2.06 2.06-.94-2.06-.94-.94-2.06-.94 2.06-2.06.94zm-11 1L8.5 8.5l.94-2.06 2.06-.94-2.06-.94L8.5 2.5l-.94 2.06-2.06.94zm10 10l.94 2.06.94-2.06 2.06-.94-2.06-.94-.94-2.06-.94 2.06-2.06.94z\"/><path d=\"M17.41 7.96l-1.37-1.37c-.4-.4-.92-.59-1.43-.59-.52 0-1.04.2-1.43.59L10.3 9.45l-7.72 7.72c-.78.78-.78 2.05 0 2.83L4 21.41c.39.39.9.59 1.41.59.51 0 1.02-.2 1.41-.59l7.78-7.78 2.81-2.81c.8-.78.8-2.07 0-2.86zM5.41 20L4 18.59l7.72-7.72 1.47 1.35L5.41 20z\"/>\n",
              "  </svg>\n",
              "      </button>\n",
              "      \n",
              "  <style>\n",
              "    .colab-df-container {\n",
              "      display:flex;\n",
              "      flex-wrap:wrap;\n",
              "      gap: 12px;\n",
              "    }\n",
              "\n",
              "    .colab-df-convert {\n",
              "      background-color: #E8F0FE;\n",
              "      border: none;\n",
              "      border-radius: 50%;\n",
              "      cursor: pointer;\n",
              "      display: none;\n",
              "      fill: #1967D2;\n",
              "      height: 32px;\n",
              "      padding: 0 0 0 0;\n",
              "      width: 32px;\n",
              "    }\n",
              "\n",
              "    .colab-df-convert:hover {\n",
              "      background-color: #E2EBFA;\n",
              "      box-shadow: 0px 1px 2px rgba(60, 64, 67, 0.3), 0px 1px 3px 1px rgba(60, 64, 67, 0.15);\n",
              "      fill: #174EA6;\n",
              "    }\n",
              "\n",
              "    [theme=dark] .colab-df-convert {\n",
              "      background-color: #3B4455;\n",
              "      fill: #D2E3FC;\n",
              "    }\n",
              "\n",
              "    [theme=dark] .colab-df-convert:hover {\n",
              "      background-color: #434B5C;\n",
              "      box-shadow: 0px 1px 3px 1px rgba(0, 0, 0, 0.15);\n",
              "      filter: drop-shadow(0px 1px 2px rgba(0, 0, 0, 0.3));\n",
              "      fill: #FFFFFF;\n",
              "    }\n",
              "  </style>\n",
              "\n",
              "      <script>\n",
              "        const buttonEl =\n",
              "          document.querySelector('#df-c2f9740f-3076-4933-be7d-fa19d72ec1a2 button.colab-df-convert');\n",
              "        buttonEl.style.display =\n",
              "          google.colab.kernel.accessAllowed ? 'block' : 'none';\n",
              "\n",
              "        async function convertToInteractive(key) {\n",
              "          const element = document.querySelector('#df-c2f9740f-3076-4933-be7d-fa19d72ec1a2');\n",
              "          const dataTable =\n",
              "            await google.colab.kernel.invokeFunction('convertToInteractive',\n",
              "                                                     [key], {});\n",
              "          if (!dataTable) return;\n",
              "\n",
              "          const docLinkHtml = 'Like what you see? Visit the ' +\n",
              "            '<a target=\"_blank\" href=https://colab.research.google.com/notebooks/data_table.ipynb>data table notebook</a>'\n",
              "            + ' to learn more about interactive tables.';\n",
              "          element.innerHTML = '';\n",
              "          dataTable['output_type'] = 'display_data';\n",
              "          await google.colab.output.renderOutput(dataTable, element);\n",
              "          const docLink = document.createElement('div');\n",
              "          docLink.innerHTML = docLinkHtml;\n",
              "          element.appendChild(docLink);\n",
              "        }\n",
              "      </script>\n",
              "    </div>\n",
              "  </div>\n",
              "  "
            ]
          },
          "metadata": {},
          "execution_count": 24
        }
      ]
    },
    {
      "cell_type": "code",
      "source": [
        "# Re-map each label\n",
        "\n",
        "categories_dictionary = {\n",
        "  \"alone\": \"sad\",\n",
        "  \"america\": \"location\",\n",
        "  \"angel\": \"religious\",\n",
        "  \"anger\": \"evil\",\n",
        "  \"animal\": \"animal\",\n",
        "  \"baby\": \"family\",\n",
        "  \"beach\": \"nature\",\n",
        "  \"beautiful\": \"love\",\n",
        "  \"beauty\": \"love\",\n",
        "  \"believe\": \"inspirational\",\n",
        "  \"birth\": \"family\",\n",
        "  \"brother\": \"family\",\n",
        "  \"butterfly\": \"animal\",\n",
        "  \"car\": \"object\",\n",
        "  \"carpe diem\": \"inspirational\",\n",
        "  \"change\": \"unknown\",\n",
        "  \"chicago\": \"location\",\n",
        "  \"childhood\": \"family\",\n",
        "  \"children\": \"family\",\n",
        "  \"christmas\": \"religious\",\n",
        "  \"cinderella\": \"unknown\",\n",
        "  \"city\": \"location\",\n",
        "  \"courage\": \"inspirational\",\n",
        "  \"crazy\": \"evil\",\n",
        "  \"culture\": \"unknown\",\n",
        "  \"dance\": \"activity\",\n",
        "  \"dark\": \"sad\",\n",
        "  \"daughter\": \"family\",\n",
        "  \"death\": \"sad\",\n",
        "  \"depression\": \"sad\",\n",
        "  \"despair\": \"sad\",\n",
        "  \"destiny\": \"inspirational\",\n",
        "  \"dream\": \"inspirational\",\n",
        "  \"evil\": \"evil\",\n",
        "  \"faith\": \"religious\",\n",
        "  \"family\": \"family\",\n",
        "  \"father\": \"family\",\n",
        "  \"fear\": \"evil\",\n",
        "  \"fire\": \"nature\",\n",
        "  \"food\": \"object\",\n",
        "  \"football\": \"object\",\n",
        "  \"freedom\": \"inspirational\",\n",
        "  \"friend\": \"family\",\n",
        "  \"frog\": \"animal\",\n",
        "  \"funeral\": \"sad\",\n",
        "  \"funny\": \"happy\",\n",
        "  \"future\": \"unknown\",\n",
        "  \"girl\": \"unknown\",\n",
        "  \"god\": \"religious\",\n",
        "  \"graduation\": \"unknown\",\n",
        "  \"greed\": \"evil\",\n",
        "  \"green\": \"object\",\n",
        "  \"hair\": \"object\",\n",
        "  \"happiness\": \"happy\",\n",
        "  \"happy\": \"happy\",\n",
        "  \"hate\": \"evil\",\n",
        "  \"heaven\": \"religious\",\n",
        "  \"hero\": \"inspirational\",\n",
        "  \"home\": \"family\",\n",
        "  \"hope\": \"inspirational\",\n",
        "  \"house\": \"family\",\n",
        "  \"hunting\": \"activity\",\n",
        "  \"husband\": \"family\",\n",
        "  \"identity\": \"unknown\",\n",
        "  \"innocence\": \"unknown\",\n",
        "  \"january\": \"unknown\",\n",
        "  \"joy\": \"happy\",\n",
        "  \"june\": \"unknown\",\n",
        "  \"justice\": \"inspirational\",\n",
        "  \"kiss\": \"love\",\n",
        "  \"laughter\": \"happy\",\n",
        "  \"life\": \"introspection\",\n",
        "  \"lonely\": \"sad\",\n",
        "  \"loss\": \"sad\",\n",
        "  \"lost\": \"sad\",\n",
        "  \"love\": \"love\",\n",
        "  \"lust\": \"evil\",\n",
        "  \"marriage\": \"love\",\n",
        "  \"memory\": \"introspection\",\n",
        "  \"mirror\": \"object\",\n",
        "  \"money\": \"object\",\n",
        "  \"moon\": \"object\",\n",
        "  \"mother\": \"family\",\n",
        "  \"murder\": \"evil\",\n",
        "  \"music\": \"unknown\",\n",
        "  \"nature\": \"nature\",\n",
        "  \"night\": \"nature\",\n",
        "  \"ocean\": \"nature\",\n",
        "  \"paris\": \"location\",\n",
        "  \"passion\": \"love\",\n",
        "  \"peace\": \"happy\",\n",
        "  \"pink\": \"object\",\n",
        "  \"poem\": \"unknown\",\n",
        "  \"poetry\": \"unknown\",\n",
        "  \"poverty\": \"sad\",\n",
        "  \"power\": \"unknown\",\n",
        "  \"racism\": \"unknown\",\n",
        "  \"rain\": \"nature\",\n",
        "  \"rainbow\": \"nature\",\n",
        "  \"red\": \"object\",\n",
        "  \"remember\": \"introspection\",\n",
        "  \"respect\": \"love\",\n",
        "  \"river\": \"nature\",\n",
        "  \"romance\": \"love\",\n",
        "  \"romantic\": \"love\",\n",
        "  \"rose\": \"nature\",\n",
        "  \"running\": \"activity\",\n",
        "  \"school\": \"activity\",\n",
        "  \"sea\": \"nature\",\n",
        "  \"sick\": \"sad\",\n",
        "  \"silver\": \"object\",\n",
        "  \"sister\": \"family\",\n",
        "  \"sky\": \"nature\",\n",
        "  \"sleep\": \"activity\",\n",
        "  \"snake\": \"nature\",\n",
        "  \"soldier\": \"unknown\",\n",
        "  \"sometimes\": \"unknown\",\n",
        "  \"son\": \"family\",\n",
        "  \"song\": \"unknown\",\n",
        "  \"sorrow\": \"sad\",\n",
        "  \"spring\": \"nature\",\n",
        "  \"star\": \"nature\",\n",
        "  \"success\": \"inspirational\",\n",
        "  \"suicide\": \"sad\",\n",
        "  \"summer\": \"nature\",\n",
        "  \"sun\": \"nature\",\n",
        "  \"swimming\": \"activity\",\n",
        "  \"sympathy\": \"sad\",\n",
        "  \"teacher\": \"activity\",\n",
        "  \"thanks\": \"happy\",\n",
        "  \"time\": \"introspection\",\n",
        "  \"today\": \"unknown\",\n",
        "  \"together\": \"love\",\n",
        "  \"travel\": \"activity\",\n",
        "  \"trust\": \"love\",\n",
        "  \"truth\": \"unknown\",\n",
        "  \"unknown\": \"unknown\",\n",
        "  \"war\": \"evil\",\n",
        "  \"warning\": \"evil\",\n",
        "  \"water\": \"nature\",\n",
        "  \"weather\": \"nature\",\n",
        "  \"wedding\": \"love\",\n",
        "  \"winter\": \"nature\",\n",
        "  \"work\": \"activity\",\n",
        "  \"world\": \"nature\",\n",
        "}"
      ],
      "metadata": {
        "id": "_7dimZZIQv4A"
      },
      "execution_count": 72,
      "outputs": []
    },
    {
      "cell_type": "code",
      "source": [
        "# Replace labels\n",
        "for idx, label in enumerate(poems_classifier_df.label):\n",
        "  if label in categories_dictionary:\n",
        "    poems_classifier_df.label[idx] = categories_dictionary[label]\n",
        "\n",
        "# Drop miscellaneous poems\n",
        "drop_labels = [\"unknown\", \"object\", \"animal\", \"location\", \"religious\", \"introspection\"]\n",
        "for label in drop_labels:\n",
        "  poems_classifier_df = poems_classifier_df[poems_classifier_df.label != label]\n",
        "\n",
        "poems_classifier_df"
      ],
      "metadata": {
        "id": "Bn3iDkc7Tb2I",
        "outputId": "d7316185-d47f-4928-8768-74e3f41acc71",
        "colab": {
          "base_uri": "https://localhost:8080/",
          "height": 424
        }
      },
      "execution_count": 34,
      "outputs": [
        {
          "output_type": "execute_result",
          "data": {
            "text/plain": [
              "                                                    poem label\n",
              "0      pay respect father mother guide philosopher re...  love\n",
              "1       value virtue priceless treasure sell bought gold  love\n",
              "2      respect respect others show never judge person...  love\n",
              "3      sit back bus observe child play weather gorgeo...  love\n",
              "4      respect another wife mother treat another poss...  love\n",
              "...                                                  ...   ...\n",
              "14329  something beautiful give alive need care thoug...  love\n",
              "14330  beautiful love shine right every time hear nam...  love\n",
              "14331  see roam woodward avenue majestic theater hum ...  love\n",
              "14332  crazy loneliness hijack memory beautiful girl ...  love\n",
              "14333  mountain glen aberfoyle beautiful sight likewi...  love\n",
              "\n",
              "[9654 rows x 2 columns]"
            ],
            "text/html": [
              "\n",
              "  <div id=\"df-9767eb49-6eb9-499c-91d6-ddb95bfc6ad9\">\n",
              "    <div class=\"colab-df-container\">\n",
              "      <div>\n",
              "<style scoped>\n",
              "    .dataframe tbody tr th:only-of-type {\n",
              "        vertical-align: middle;\n",
              "    }\n",
              "\n",
              "    .dataframe tbody tr th {\n",
              "        vertical-align: top;\n",
              "    }\n",
              "\n",
              "    .dataframe thead th {\n",
              "        text-align: right;\n",
              "    }\n",
              "</style>\n",
              "<table border=\"1\" class=\"dataframe\">\n",
              "  <thead>\n",
              "    <tr style=\"text-align: right;\">\n",
              "      <th></th>\n",
              "      <th>poem</th>\n",
              "      <th>label</th>\n",
              "    </tr>\n",
              "  </thead>\n",
              "  <tbody>\n",
              "    <tr>\n",
              "      <th>0</th>\n",
              "      <td>pay respect father mother guide philosopher re...</td>\n",
              "      <td>love</td>\n",
              "    </tr>\n",
              "    <tr>\n",
              "      <th>1</th>\n",
              "      <td>value virtue priceless treasure sell bought gold</td>\n",
              "      <td>love</td>\n",
              "    </tr>\n",
              "    <tr>\n",
              "      <th>2</th>\n",
              "      <td>respect respect others show never judge person...</td>\n",
              "      <td>love</td>\n",
              "    </tr>\n",
              "    <tr>\n",
              "      <th>3</th>\n",
              "      <td>sit back bus observe child play weather gorgeo...</td>\n",
              "      <td>love</td>\n",
              "    </tr>\n",
              "    <tr>\n",
              "      <th>4</th>\n",
              "      <td>respect another wife mother treat another poss...</td>\n",
              "      <td>love</td>\n",
              "    </tr>\n",
              "    <tr>\n",
              "      <th>...</th>\n",
              "      <td>...</td>\n",
              "      <td>...</td>\n",
              "    </tr>\n",
              "    <tr>\n",
              "      <th>14329</th>\n",
              "      <td>something beautiful give alive need care thoug...</td>\n",
              "      <td>love</td>\n",
              "    </tr>\n",
              "    <tr>\n",
              "      <th>14330</th>\n",
              "      <td>beautiful love shine right every time hear nam...</td>\n",
              "      <td>love</td>\n",
              "    </tr>\n",
              "    <tr>\n",
              "      <th>14331</th>\n",
              "      <td>see roam woodward avenue majestic theater hum ...</td>\n",
              "      <td>love</td>\n",
              "    </tr>\n",
              "    <tr>\n",
              "      <th>14332</th>\n",
              "      <td>crazy loneliness hijack memory beautiful girl ...</td>\n",
              "      <td>love</td>\n",
              "    </tr>\n",
              "    <tr>\n",
              "      <th>14333</th>\n",
              "      <td>mountain glen aberfoyle beautiful sight likewi...</td>\n",
              "      <td>love</td>\n",
              "    </tr>\n",
              "  </tbody>\n",
              "</table>\n",
              "<p>9654 rows × 2 columns</p>\n",
              "</div>\n",
              "      <button class=\"colab-df-convert\" onclick=\"convertToInteractive('df-9767eb49-6eb9-499c-91d6-ddb95bfc6ad9')\"\n",
              "              title=\"Convert this dataframe to an interactive table.\"\n",
              "              style=\"display:none;\">\n",
              "        \n",
              "  <svg xmlns=\"http://www.w3.org/2000/svg\" height=\"24px\"viewBox=\"0 0 24 24\"\n",
              "       width=\"24px\">\n",
              "    <path d=\"M0 0h24v24H0V0z\" fill=\"none\"/>\n",
              "    <path d=\"M18.56 5.44l.94 2.06.94-2.06 2.06-.94-2.06-.94-.94-2.06-.94 2.06-2.06.94zm-11 1L8.5 8.5l.94-2.06 2.06-.94-2.06-.94L8.5 2.5l-.94 2.06-2.06.94zm10 10l.94 2.06.94-2.06 2.06-.94-2.06-.94-.94-2.06-.94 2.06-2.06.94z\"/><path d=\"M17.41 7.96l-1.37-1.37c-.4-.4-.92-.59-1.43-.59-.52 0-1.04.2-1.43.59L10.3 9.45l-7.72 7.72c-.78.78-.78 2.05 0 2.83L4 21.41c.39.39.9.59 1.41.59.51 0 1.02-.2 1.41-.59l7.78-7.78 2.81-2.81c.8-.78.8-2.07 0-2.86zM5.41 20L4 18.59l7.72-7.72 1.47 1.35L5.41 20z\"/>\n",
              "  </svg>\n",
              "      </button>\n",
              "      \n",
              "  <style>\n",
              "    .colab-df-container {\n",
              "      display:flex;\n",
              "      flex-wrap:wrap;\n",
              "      gap: 12px;\n",
              "    }\n",
              "\n",
              "    .colab-df-convert {\n",
              "      background-color: #E8F0FE;\n",
              "      border: none;\n",
              "      border-radius: 50%;\n",
              "      cursor: pointer;\n",
              "      display: none;\n",
              "      fill: #1967D2;\n",
              "      height: 32px;\n",
              "      padding: 0 0 0 0;\n",
              "      width: 32px;\n",
              "    }\n",
              "\n",
              "    .colab-df-convert:hover {\n",
              "      background-color: #E2EBFA;\n",
              "      box-shadow: 0px 1px 2px rgba(60, 64, 67, 0.3), 0px 1px 3px 1px rgba(60, 64, 67, 0.15);\n",
              "      fill: #174EA6;\n",
              "    }\n",
              "\n",
              "    [theme=dark] .colab-df-convert {\n",
              "      background-color: #3B4455;\n",
              "      fill: #D2E3FC;\n",
              "    }\n",
              "\n",
              "    [theme=dark] .colab-df-convert:hover {\n",
              "      background-color: #434B5C;\n",
              "      box-shadow: 0px 1px 3px 1px rgba(0, 0, 0, 0.15);\n",
              "      filter: drop-shadow(0px 1px 2px rgba(0, 0, 0, 0.3));\n",
              "      fill: #FFFFFF;\n",
              "    }\n",
              "  </style>\n",
              "\n",
              "      <script>\n",
              "        const buttonEl =\n",
              "          document.querySelector('#df-9767eb49-6eb9-499c-91d6-ddb95bfc6ad9 button.colab-df-convert');\n",
              "        buttonEl.style.display =\n",
              "          google.colab.kernel.accessAllowed ? 'block' : 'none';\n",
              "\n",
              "        async function convertToInteractive(key) {\n",
              "          const element = document.querySelector('#df-9767eb49-6eb9-499c-91d6-ddb95bfc6ad9');\n",
              "          const dataTable =\n",
              "            await google.colab.kernel.invokeFunction('convertToInteractive',\n",
              "                                                     [key], {});\n",
              "          if (!dataTable) return;\n",
              "\n",
              "          const docLinkHtml = 'Like what you see? Visit the ' +\n",
              "            '<a target=\"_blank\" href=https://colab.research.google.com/notebooks/data_table.ipynb>data table notebook</a>'\n",
              "            + ' to learn more about interactive tables.';\n",
              "          element.innerHTML = '';\n",
              "          dataTable['output_type'] = 'display_data';\n",
              "          await google.colab.output.renderOutput(dataTable, element);\n",
              "          const docLink = document.createElement('div');\n",
              "          docLink.innerHTML = docLinkHtml;\n",
              "          element.appendChild(docLink);\n",
              "        }\n",
              "      </script>\n",
              "    </div>\n",
              "  </div>\n",
              "  "
            ]
          },
          "metadata": {},
          "execution_count": 34
        }
      ]
    },
    {
      "cell_type": "markdown",
      "source": [
        "2.3 EDA"
      ],
      "metadata": {
        "id": "X4vGVVqRsWJK"
      }
    },
    {
      "cell_type": "code",
      "source": [
        "# Frequency Distribution of labels\n",
        "\n",
        "fig, ax = plt.subplots()\n",
        "poems_classifier_df['label'].value_counts().plot(ax=ax, kind='bar')\n",
        "plt.xlabel(\"Label\")\n",
        "plt.ylabel(\"Count\")\n",
        "plt.title(\"Frequency Distribution of Labels\")"
      ],
      "metadata": {
        "id": "svE0UuVfUCvQ",
        "outputId": "cbf29c94-9e57-41fc-d940-4ebc4a498fa2",
        "colab": {
          "base_uri": "https://localhost:8080/",
          "height": 364
        }
      },
      "execution_count": 36,
      "outputs": [
        {
          "output_type": "execute_result",
          "data": {
            "text/plain": [
              "Text(0.5, 1.0, 'Frequency Distribution of Labels')"
            ]
          },
          "metadata": {},
          "execution_count": 36
        },
        {
          "output_type": "display_data",
          "data": {
            "text/plain": [
              "<Figure size 432x288 with 1 Axes>"
            ],
            "image/png": "[encoded data removed]"
          },
          "metadata": {
            "needs_background": "light"
          }
        }
      ]
    },
    {
      "cell_type": "markdown",
      "source": [
        "2.4 Input/Output Encoding"
      ],
      "metadata": {
        "id": "5UFRaz3ssgW1"
      }
    },
    {
      "cell_type": "code",
      "source": [
        "# Label Encoder - [1 sec]\n",
        "enc = LabelEncoder()\n",
        "poems_classifier_df[\"label_encoded\"] = enc.fit_transform( poems_classifier_df[\"label\"] )\n",
        "\n",
        "# TF-IDF - [2 sec]\n",
        "X, y = poems_classifier_df[\"poem\"].values, poems_classifier_df[\"label_encoded\"].values\n",
        "\n",
        "vectorizer = TfidfVectorizer(max_features=5000)\n",
        "X_vectorized = vectorizer.fit_transform(X).toarray()\n",
        "\n",
        "poems_classifier_df"
      ],
      "metadata": {
        "colab": {
          "base_uri": "https://localhost:8080/",
          "height": 424
        },
        "id": "Y5_0ouYnagUw",
        "outputId": "ed73ea19-fc94-47ae-c492-b7d0ad546c64"
      },
      "execution_count": 63,
      "outputs": [
        {
          "output_type": "execute_result",
          "data": {
            "text/plain": [
              "                                                    poem label  label_encoded\n",
              "0      pay respect father mother guide philosopher re...  love              5\n",
              "1       value virtue priceless treasure sell bought gold  love              5\n",
              "2      respect respect others show never judge person...  love              5\n",
              "3      sit back bus observe child play weather gorgeo...  love              5\n",
              "4      respect another wife mother treat another poss...  love              5\n",
              "...                                                  ...   ...            ...\n",
              "14329  something beautiful give alive need care thoug...  love              5\n",
              "14330  beautiful love shine right every time hear nam...  love              5\n",
              "14331  see roam woodward avenue majestic theater hum ...  love              5\n",
              "14332  crazy loneliness hijack memory beautiful girl ...  love              5\n",
              "14333  mountain glen aberfoyle beautiful sight likewi...  love              5\n",
              "\n",
              "[9654 rows x 3 columns]"
            ],
            "text/html": [
              "\n",
              "  <div id=\"df-f44dbd39-8385-428e-aeb3-c8db590562b6\">\n",
              "    <div class=\"colab-df-container\">\n",
              "      <div>\n",
              "<style scoped>\n",
              "    .dataframe tbody tr th:only-of-type {\n",
              "        vertical-align: middle;\n",
              "    }\n",
              "\n",
              "    .dataframe tbody tr th {\n",
              "        vertical-align: top;\n",
              "    }\n",
              "\n",
              "    .dataframe thead th {\n",
              "        text-align: right;\n",
              "    }\n",
              "</style>\n",
              "<table border=\"1\" class=\"dataframe\">\n",
              "  <thead>\n",
              "    <tr style=\"text-align: right;\">\n",
              "      <th></th>\n",
              "      <th>poem</th>\n",
              "      <th>label</th>\n",
              "      <th>label_encoded</th>\n",
              "    </tr>\n",
              "  </thead>\n",
              "  <tbody>\n",
              "    <tr>\n",
              "      <th>0</th>\n",
              "      <td>pay respect father mother guide philosopher re...</td>\n",
              "      <td>love</td>\n",
              "      <td>5</td>\n",
              "    </tr>\n",
              "    <tr>\n",
              "      <th>1</th>\n",
              "      <td>value virtue priceless treasure sell bought gold</td>\n",
              "      <td>love</td>\n",
              "      <td>5</td>\n",
              "    </tr>\n",
              "    <tr>\n",
              "      <th>2</th>\n",
              "      <td>respect respect others show never judge person...</td>\n",
              "      <td>love</td>\n",
              "      <td>5</td>\n",
              "    </tr>\n",
              "    <tr>\n",
              "      <th>3</th>\n",
              "      <td>sit back bus observe child play weather gorgeo...</td>\n",
              "      <td>love</td>\n",
              "      <td>5</td>\n",
              "    </tr>\n",
              "    <tr>\n",
              "      <th>4</th>\n",
              "      <td>respect another wife mother treat another poss...</td>\n",
              "      <td>love</td>\n",
              "      <td>5</td>\n",
              "    </tr>\n",
              "    <tr>\n",
              "      <th>...</th>\n",
              "      <td>...</td>\n",
              "      <td>...</td>\n",
              "      <td>...</td>\n",
              "    </tr>\n",
              "    <tr>\n",
              "      <th>14329</th>\n",
              "      <td>something beautiful give alive need care thoug...</td>\n",
              "      <td>love</td>\n",
              "      <td>5</td>\n",
              "    </tr>\n",
              "    <tr>\n",
              "      <th>14330</th>\n",
              "      <td>beautiful love shine right every time hear nam...</td>\n",
              "      <td>love</td>\n",
              "      <td>5</td>\n",
              "    </tr>\n",
              "    <tr>\n",
              "      <th>14331</th>\n",
              "      <td>see roam woodward avenue majestic theater hum ...</td>\n",
              "      <td>love</td>\n",
              "      <td>5</td>\n",
              "    </tr>\n",
              "    <tr>\n",
              "      <th>14332</th>\n",
              "      <td>crazy loneliness hijack memory beautiful girl ...</td>\n",
              "      <td>love</td>\n",
              "      <td>5</td>\n",
              "    </tr>\n",
              "    <tr>\n",
              "      <th>14333</th>\n",
              "      <td>mountain glen aberfoyle beautiful sight likewi...</td>\n",
              "      <td>love</td>\n",
              "      <td>5</td>\n",
              "    </tr>\n",
              "  </tbody>\n",
              "</table>\n",
              "<p>9654 rows × 3 columns</p>\n",
              "</div>\n",
              "      <button class=\"colab-df-convert\" onclick=\"convertToInteractive('df-f44dbd39-8385-428e-aeb3-c8db590562b6')\"\n",
              "              title=\"Convert this dataframe to an interactive table.\"\n",
              "              style=\"display:none;\">\n",
              "        \n",
              "  <svg xmlns=\"http://www.w3.org/2000/svg\" height=\"24px\"viewBox=\"0 0 24 24\"\n",
              "       width=\"24px\">\n",
              "    <path d=\"M0 0h24v24H0V0z\" fill=\"none\"/>\n",
              "    <path d=\"M18.56 5.44l.94 2.06.94-2.06 2.06-.94-2.06-.94-.94-2.06-.94 2.06-2.06.94zm-11 1L8.5 8.5l.94-2.06 2.06-.94-2.06-.94L8.5 2.5l-.94 2.06-2.06.94zm10 10l.94 2.06.94-2.06 2.06-.94-2.06-.94-.94-2.06-.94 2.06-2.06.94z\"/><path d=\"M17.41 7.96l-1.37-1.37c-.4-.4-.92-.59-1.43-.59-.52 0-1.04.2-1.43.59L10.3 9.45l-7.72 7.72c-.78.78-.78 2.05 0 2.83L4 21.41c.39.39.9.59 1.41.59.51 0 1.02-.2 1.41-.59l7.78-7.78 2.81-2.81c.8-.78.8-2.07 0-2.86zM5.41 20L4 18.59l7.72-7.72 1.47 1.35L5.41 20z\"/>\n",
              "  </svg>\n",
              "      </button>\n",
              "      \n",
              "  <style>\n",
              "    .colab-df-container {\n",
              "      display:flex;\n",
              "      flex-wrap:wrap;\n",
              "      gap: 12px;\n",
              "    }\n",
              "\n",
              "    .colab-df-convert {\n",
              "      background-color: #E8F0FE;\n",
              "      border: none;\n",
              "      border-radius: 50%;\n",
              "      cursor: pointer;\n",
              "      display: none;\n",
              "      fill: #1967D2;\n",
              "      height: 32px;\n",
              "      padding: 0 0 0 0;\n",
              "      width: 32px;\n",
              "    }\n",
              "\n",
              "    .colab-df-convert:hover {\n",
              "      background-color: #E2EBFA;\n",
              "      box-shadow: 0px 1px 2px rgba(60, 64, 67, 0.3), 0px 1px 3px 1px rgba(60, 64, 67, 0.15);\n",
              "      fill: #174EA6;\n",
              "    }\n",
              "\n",
              "    [theme=dark] .colab-df-convert {\n",
              "      background-color: #3B4455;\n",
              "      fill: #D2E3FC;\n",
              "    }\n",
              "\n",
              "    [theme=dark] .colab-df-convert:hover {\n",
              "      background-color: #434B5C;\n",
              "      box-shadow: 0px 1px 3px 1px rgba(0, 0, 0, 0.15);\n",
              "      filter: drop-shadow(0px 1px 2px rgba(0, 0, 0, 0.3));\n",
              "      fill: #FFFFFF;\n",
              "    }\n",
              "  </style>\n",
              "\n",
              "      <script>\n",
              "        const buttonEl =\n",
              "          document.querySelector('#df-f44dbd39-8385-428e-aeb3-c8db590562b6 button.colab-df-convert');\n",
              "        buttonEl.style.display =\n",
              "          google.colab.kernel.accessAllowed ? 'block' : 'none';\n",
              "\n",
              "        async function convertToInteractive(key) {\n",
              "          const element = document.querySelector('#df-f44dbd39-8385-428e-aeb3-c8db590562b6');\n",
              "          const dataTable =\n",
              "            await google.colab.kernel.invokeFunction('convertToInteractive',\n",
              "                                                     [key], {});\n",
              "          if (!dataTable) return;\n",
              "\n",
              "          const docLinkHtml = 'Like what you see? Visit the ' +\n",
              "            '<a target=\"_blank\" href=https://colab.research.google.com/notebooks/data_table.ipynb>data table notebook</a>'\n",
              "            + ' to learn more about interactive tables.';\n",
              "          element.innerHTML = '';\n",
              "          dataTable['output_type'] = 'display_data';\n",
              "          await google.colab.output.renderOutput(dataTable, element);\n",
              "          const docLink = document.createElement('div');\n",
              "          docLink.innerHTML = docLinkHtml;\n",
              "          element.appendChild(docLink);\n",
              "        }\n",
              "      </script>\n",
              "    </div>\n",
              "  </div>\n",
              "  "
            ]
          },
          "metadata": {},
          "execution_count": 63
        }
      ]
    },
    {
      "cell_type": "markdown",
      "source": [
        "2.5 Train/Test Split"
      ],
      "metadata": {
        "id": "bFJm6o_l05SQ"
      }
    },
    {
      "cell_type": "code",
      "source": [
        "# Train/Test Split - [3 sec]\n",
        "X_train, X_test, y_train, y_test = train_test_split(X_vectorized, y, test_size=0.2, stratify=y)"
      ],
      "metadata": {
        "id": "csNaGuduw2sS"
      },
      "execution_count": 71,
      "outputs": []
    },
    {
      "cell_type": "markdown",
      "source": [
        "## 3. Model(s)"
      ],
      "metadata": {
        "id": "n5gl11r_tOmG"
      }
    },
    {
      "cell_type": "code",
      "source": [
        "## Neural Network"
      ],
      "metadata": {
        "id": "EqCsreuhtR9d"
      },
      "execution_count": null,
      "outputs": []
    },
    {
      "cell_type": "markdown",
      "source": [
        "## 4. Notes"
      ],
      "metadata": {
        "id": "GQIRTjt0SXLi"
      }
    },
    {
      "cell_type": "code",
      "source": [
        "with open(\"/content/topics/marriage/MarriagePoemsMarriageSongPoembyYehudahHaLevi.txt\") as f:\n",
        "  lines = f.readlines()\n",
        "\n",
        "print(lines)"
      ],
      "metadata": {
        "colab": {
          "base_uri": "https://localhost:8080/"
        },
        "id": "hqpaEkUWjSeo",
        "outputId": "1bfaadcb-d56f-4e33-9db0-04a25c379bf8"
      },
      "execution_count": null,
      "outputs": [
        {
          "output_type": "stream",
          "name": "stdout",
          "text": [
            "['Fair is my dove, my loved one,\\n', 'None can with her compare:\\n', 'Yea, comely as Jerusalem,\\n', 'Like unto Tirzah fair.\\n', 'Shall she in tents unstable\\n', 'A wanderer abide,\\n', 'While in my heart awaits her\\n', 'A dwelling deep and wide?\\n', 'The magic of her beauty\\n', 'Has stolen my heart away:\\n', \"Not Egypt's wise enchanters\\n\", 'Held half such wondrous sway.\\n', 'Even as the changing opal\\n', 'In varying luster glows,\\n', 'Her face at every moment\\n', 'New charms and sweetness shows.\\n', 'White lilies and red roses\\n', 'There blossom on one stem:\\n', 'Her lips of crimson berries\\n', 'Tempt mine to gather them.\\n', 'By dusky tresses shaded\\n', 'Her brow gleams fair and pale,\\n', 'Like to the sun at twilight,\\n', 'Behind a cloudy veil.\\n', 'Her beauty shames the day-star,\\n', 'And makes the darkness light:\\n', 'Day in her radiant presence\\n', 'Grows seven times more bright.\\n', 'This is a lonely lover!\\n', 'Come, fair one, to his side,\\n', 'That happy be together\\n', 'The bridegroom and the bride!\\n', 'The hour of love approaches\\n', 'That shall make one of twain:\\n', 'Soon may be thus united\\n', \"All Israel's hosts again!\"]\n"
          ]
        }
      ]
    },
    {
      "cell_type": "code",
      "source": [
        "# This is a sentence ->{'<s>', 'This', 'is', 'a', 'sentence', '</s>'}\n",
        "\n",
        "# corpus: body of text (pl. corpora)\n",
        "# token: \"word\""
      ],
      "metadata": {
        "id": "N_JHIjI_dwhv"
      },
      "execution_count": null,
      "outputs": []
    }
  ]
}