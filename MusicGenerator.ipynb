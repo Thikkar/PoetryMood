{
  "nbformat": 4,
  "nbformat_minor": 0,
  "metadata": {
    "colab": {
      "provenance": [],
      "include_colab_link": true
    },
    "kernelspec": {
      "name": "python3",
      "display_name": "Python 3"
    },
    "language_info": {
      "name": "python"
    }
  },
  "cells": [
    {
      "cell_type": "markdown",
      "metadata": {
        "id": "view-in-github",
        "colab_type": "text"
      },
      "source": [
        "<a href=\"https://colab.research.google.com/github/Thikkar/music-generator/blob/main/MusicGenerator.ipynb\" target=\"_parent\"><img src=\"https://colab.research.google.com/assets/colab-badge.svg\" alt=\"Open In Colab\"/></a>"
      ]
    },
    {
      "cell_type": "markdown",
      "source": [
        "## 1. Set-up"
      ],
      "metadata": {
        "id": "2vD-1sErsoLR"
      }
    },
    {
      "cell_type": "markdown",
      "source": [
        "1.1 Scripts"
      ],
      "metadata": {
        "id": "OUTZPo6Wdq76"
      }
    },
    {
      "cell_type": "code",
      "execution_count": 1,
      "metadata": {
        "colab": {
          "base_uri": "https://localhost:8080/"
        },
        "id": "QZDfnj5edmpZ",
        "outputId": "d710760a-057e-4e2a-d91f-c0cb7d493750"
      },
      "outputs": [
        {
          "output_type": "stream",
          "name": "stdout",
          "text": [
            "Looking in indexes: https://pypi.org/simple, https://us-python.pkg.dev/colab-wheels/public/simple/\n",
            "Requirement already satisfied: kaggle in /usr/local/lib/python3.8/dist-packages (1.5.12)\n",
            "Requirement already satisfied: tqdm in /usr/local/lib/python3.8/dist-packages (from kaggle) (4.64.1)\n",
            "Requirement already satisfied: python-dateutil in /usr/local/lib/python3.8/dist-packages (from kaggle) (2.8.2)\n",
            "Requirement already satisfied: certifi in /usr/local/lib/python3.8/dist-packages (from kaggle) (2022.12.7)\n",
            "Requirement already satisfied: python-slugify in /usr/local/lib/python3.8/dist-packages (from kaggle) (8.0.0)\n",
            "Requirement already satisfied: six>=1.10 in /usr/local/lib/python3.8/dist-packages (from kaggle) (1.15.0)\n",
            "Requirement already satisfied: urllib3 in /usr/local/lib/python3.8/dist-packages (from kaggle) (1.24.3)\n",
            "Requirement already satisfied: requests in /usr/local/lib/python3.8/dist-packages (from kaggle) (2.25.1)\n",
            "Requirement already satisfied: text-unidecode>=1.3 in /usr/local/lib/python3.8/dist-packages (from python-slugify->kaggle) (1.3)\n",
            "Requirement already satisfied: idna<3,>=2.5 in /usr/local/lib/python3.8/dist-packages (from requests->kaggle) (2.10)\n",
            "Requirement already satisfied: chardet<5,>=3.0.2 in /usr/local/lib/python3.8/dist-packages (from requests->kaggle) (4.0.0)\n"
          ]
        }
      ],
      "source": [
        "! pip install kaggle"
      ]
    },
    {
      "cell_type": "code",
      "source": [
        "! mkdir  ~/.kaggle"
      ],
      "metadata": {
        "id": "OSb91TLLgA5u"
      },
      "execution_count": 2,
      "outputs": []
    },
    {
      "cell_type": "code",
      "source": [
        "! cp kaggle.json ~/.kaggle/"
      ],
      "metadata": {
        "id": "mGlp0wnRgdMA"
      },
      "execution_count": 3,
      "outputs": []
    },
    {
      "cell_type": "code",
      "source": [
        "! chmod 600 ~/.kaggle/kaggle.json"
      ],
      "metadata": {
        "id": "uABvnZcfg3ve"
      },
      "execution_count": 4,
      "outputs": []
    },
    {
      "cell_type": "code",
      "source": [
        "! kaggle datasets download -d michaelarman/poemsdataset"
      ],
      "metadata": {
        "colab": {
          "base_uri": "https://localhost:8080/"
        },
        "id": "qBA21jqWhBIo",
        "outputId": "c4e9852e-0cf8-46cd-ab94-b36c9d5d4d9e"
      },
      "execution_count": 5,
      "outputs": [
        {
          "output_type": "stream",
          "name": "stdout",
          "text": [
            "Downloading poemsdataset.zip to /content\n",
            " 77% 12.0M/15.5M [00:00<00:00, 21.6MB/s]\n",
            "100% 15.5M/15.5M [00:00<00:00, 25.4MB/s]\n"
          ]
        }
      ]
    },
    {
      "cell_type": "code",
      "source": [
        "! unzip poemsdataset.zip > out.txt"
      ],
      "metadata": {
        "colab": {
          "base_uri": "https://localhost:8080/"
        },
        "id": "VpsTim0WhxQe",
        "outputId": "211d3732-b5ff-4c7a-9477-e9d225067ff6"
      },
      "execution_count": 6,
      "outputs": [
        {
          "output_type": "stream",
          "name": "stdout",
          "text": [
            "error:  cannot create topics/racism/RacismPoemsTranslationOfRacismIsAroundMeEverywhereByFrancisDugganржЖржорж░ржЪрж░ржкрж╢ржЫрзЬрзЯржЖржЫржЬрждржмржжржмрж╖ржорж▓ржлрж░ржирж╕рж╕ржбржЧржиPoembyAlamSayed.txt\n",
            "        File name too long\n"
          ]
        }
      ]
    },
    {
      "cell_type": "markdown",
      "source": [
        "1.2 Imports"
      ],
      "metadata": {
        "id": "-qIMpCfDdsqB"
      }
    },
    {
      "cell_type": "code",
      "source": [
        "import pandas as pd\n",
        "import numpy as np\n",
        "import os\n",
        "import re\n",
        "import nltk\n",
        "import matplotlib.pyplot as plt\n",
        "import seaborn as sns\n",
        "from wordcloud import WordCloud\n",
        "from nltk.corpus import stopwords\n",
        "from nltk.corpus import wordnet\n",
        "from nltk.stem import WordNetLemmatizer\n",
        "from sklearn.feature_extraction.text import TfidfVectorizer\n",
        "from sklearn.preprocessing import LabelEncoder\n",
        "from sklearn.model_selection import train_test_split\n",
        "from sklearn.naive_bayes import MultinomialNB\n",
        "from sklearn.metrics import accuracy_score, classification_report\n",
        "from sklearn.metrics import confusion_matrix"
      ],
      "metadata": {
        "id": "BBFR3mHYduMP"
      },
      "execution_count": 129,
      "outputs": []
    },
    {
      "cell_type": "markdown",
      "source": [
        "## 2. Data Pre-processing"
      ],
      "metadata": {
        "id": "EKOKsoh1dvfZ"
      }
    },
    {
      "cell_type": "markdown",
      "source": [
        "2.1 a) Load Pre-Processed Data"
      ],
      "metadata": {
        "id": "NdDC2ME7syCf"
      }
    },
    {
      "cell_type": "code",
      "source": [
        "poems_classifier_df = pd.read_csv(\"/content/poemsdataset-original.csv\")\n",
        "poems_classifier_df"
      ],
      "metadata": {
        "id": "yhhNmpX8IItQ",
        "outputId": "1c1eb3d5-c9a3-4071-a1ef-3d661c82c543",
        "colab": {
          "base_uri": "https://localhost:8080/",
          "height": 424
        }
      },
      "execution_count": 120,
      "outputs": [
        {
          "output_type": "execute_result",
          "data": {
            "text/plain": [
              "       Unnamed: 0                                               poem label\n",
              "0               0  varus drag affair forum see idle little whore ...  girl\n",
              "1               1  pretty walk witty talk pleasant think sir john...  girl\n",
              "2               2  world weary girl tear form eye confusion swirl...  girl\n",
              "3               3  little girl little curl right middle forehead ...  girl\n",
              "4               4  thank friend rare positive care like sister wo...  girl\n",
              "...           ...                                                ...   ...\n",
              "14329       14329  remember nation born war purpose establish fre...   war\n",
              "14330       14330  course human event choose go war choose intere...   war\n",
              "14331       14331  rationale go war turn false claim would go war...   war\n",
              "14332       14332  look across land see sight grand scene eerie s...   war\n",
              "14333       14333  cloud lower shall soon pas er world take side ...   war\n",
              "\n",
              "[14334 rows x 3 columns]"
            ],
            "text/html": [
              "\n",
              "  <div id=\"df-cd0e2046-a0df-4679-8fc5-76bd9383865f\">\n",
              "    <div class=\"colab-df-container\">\n",
              "      <div>\n",
              "<style scoped>\n",
              "    .dataframe tbody tr th:only-of-type {\n",
              "        vertical-align: middle;\n",
              "    }\n",
              "\n",
              "    .dataframe tbody tr th {\n",
              "        vertical-align: top;\n",
              "    }\n",
              "\n",
              "    .dataframe thead th {\n",
              "        text-align: right;\n",
              "    }\n",
              "</style>\n",
              "<table border=\"1\" class=\"dataframe\">\n",
              "  <thead>\n",
              "    <tr style=\"text-align: right;\">\n",
              "      <th></th>\n",
              "      <th>Unnamed: 0</th>\n",
              "      <th>poem</th>\n",
              "      <th>label</th>\n",
              "    </tr>\n",
              "  </thead>\n",
              "  <tbody>\n",
              "    <tr>\n",
              "      <th>0</th>\n",
              "      <td>0</td>\n",
              "      <td>varus drag affair forum see idle little whore ...</td>\n",
              "      <td>girl</td>\n",
              "    </tr>\n",
              "    <tr>\n",
              "      <th>1</th>\n",
              "      <td>1</td>\n",
              "      <td>pretty walk witty talk pleasant think sir john...</td>\n",
              "      <td>girl</td>\n",
              "    </tr>\n",
              "    <tr>\n",
              "      <th>2</th>\n",
              "      <td>2</td>\n",
              "      <td>world weary girl tear form eye confusion swirl...</td>\n",
              "      <td>girl</td>\n",
              "    </tr>\n",
              "    <tr>\n",
              "      <th>3</th>\n",
              "      <td>3</td>\n",
              "      <td>little girl little curl right middle forehead ...</td>\n",
              "      <td>girl</td>\n",
              "    </tr>\n",
              "    <tr>\n",
              "      <th>4</th>\n",
              "      <td>4</td>\n",
              "      <td>thank friend rare positive care like sister wo...</td>\n",
              "      <td>girl</td>\n",
              "    </tr>\n",
              "    <tr>\n",
              "      <th>...</th>\n",
              "      <td>...</td>\n",
              "      <td>...</td>\n",
              "      <td>...</td>\n",
              "    </tr>\n",
              "    <tr>\n",
              "      <th>14329</th>\n",
              "      <td>14329</td>\n",
              "      <td>remember nation born war purpose establish fre...</td>\n",
              "      <td>war</td>\n",
              "    </tr>\n",
              "    <tr>\n",
              "      <th>14330</th>\n",
              "      <td>14330</td>\n",
              "      <td>course human event choose go war choose intere...</td>\n",
              "      <td>war</td>\n",
              "    </tr>\n",
              "    <tr>\n",
              "      <th>14331</th>\n",
              "      <td>14331</td>\n",
              "      <td>rationale go war turn false claim would go war...</td>\n",
              "      <td>war</td>\n",
              "    </tr>\n",
              "    <tr>\n",
              "      <th>14332</th>\n",
              "      <td>14332</td>\n",
              "      <td>look across land see sight grand scene eerie s...</td>\n",
              "      <td>war</td>\n",
              "    </tr>\n",
              "    <tr>\n",
              "      <th>14333</th>\n",
              "      <td>14333</td>\n",
              "      <td>cloud lower shall soon pas er world take side ...</td>\n",
              "      <td>war</td>\n",
              "    </tr>\n",
              "  </tbody>\n",
              "</table>\n",
              "<p>14334 rows × 3 columns</p>\n",
              "</div>\n",
              "      <button class=\"colab-df-convert\" onclick=\"convertToInteractive('df-cd0e2046-a0df-4679-8fc5-76bd9383865f')\"\n",
              "              title=\"Convert this dataframe to an interactive table.\"\n",
              "              style=\"display:none;\">\n",
              "        \n",
              "  <svg xmlns=\"http://www.w3.org/2000/svg\" height=\"24px\"viewBox=\"0 0 24 24\"\n",
              "       width=\"24px\">\n",
              "    <path d=\"M0 0h24v24H0V0z\" fill=\"none\"/>\n",
              "    <path d=\"M18.56 5.44l.94 2.06.94-2.06 2.06-.94-2.06-.94-.94-2.06-.94 2.06-2.06.94zm-11 1L8.5 8.5l.94-2.06 2.06-.94-2.06-.94L8.5 2.5l-.94 2.06-2.06.94zm10 10l.94 2.06.94-2.06 2.06-.94-2.06-.94-.94-2.06-.94 2.06-2.06.94z\"/><path d=\"M17.41 7.96l-1.37-1.37c-.4-.4-.92-.59-1.43-.59-.52 0-1.04.2-1.43.59L10.3 9.45l-7.72 7.72c-.78.78-.78 2.05 0 2.83L4 21.41c.39.39.9.59 1.41.59.51 0 1.02-.2 1.41-.59l7.78-7.78 2.81-2.81c.8-.78.8-2.07 0-2.86zM5.41 20L4 18.59l7.72-7.72 1.47 1.35L5.41 20z\"/>\n",
              "  </svg>\n",
              "      </button>\n",
              "      \n",
              "  <style>\n",
              "    .colab-df-container {\n",
              "      display:flex;\n",
              "      flex-wrap:wrap;\n",
              "      gap: 12px;\n",
              "    }\n",
              "\n",
              "    .colab-df-convert {\n",
              "      background-color: #E8F0FE;\n",
              "      border: none;\n",
              "      border-radius: 50%;\n",
              "      cursor: pointer;\n",
              "      display: none;\n",
              "      fill: #1967D2;\n",
              "      height: 32px;\n",
              "      padding: 0 0 0 0;\n",
              "      width: 32px;\n",
              "    }\n",
              "\n",
              "    .colab-df-convert:hover {\n",
              "      background-color: #E2EBFA;\n",
              "      box-shadow: 0px 1px 2px rgba(60, 64, 67, 0.3), 0px 1px 3px 1px rgba(60, 64, 67, 0.15);\n",
              "      fill: #174EA6;\n",
              "    }\n",
              "\n",
              "    [theme=dark] .colab-df-convert {\n",
              "      background-color: #3B4455;\n",
              "      fill: #D2E3FC;\n",
              "    }\n",
              "\n",
              "    [theme=dark] .colab-df-convert:hover {\n",
              "      background-color: #434B5C;\n",
              "      box-shadow: 0px 1px 3px 1px rgba(0, 0, 0, 0.15);\n",
              "      filter: drop-shadow(0px 1px 2px rgba(0, 0, 0, 0.3));\n",
              "      fill: #FFFFFF;\n",
              "    }\n",
              "  </style>\n",
              "\n",
              "      <script>\n",
              "        const buttonEl =\n",
              "          document.querySelector('#df-cd0e2046-a0df-4679-8fc5-76bd9383865f button.colab-df-convert');\n",
              "        buttonEl.style.display =\n",
              "          google.colab.kernel.accessAllowed ? 'block' : 'none';\n",
              "\n",
              "        async function convertToInteractive(key) {\n",
              "          const element = document.querySelector('#df-cd0e2046-a0df-4679-8fc5-76bd9383865f');\n",
              "          const dataTable =\n",
              "            await google.colab.kernel.invokeFunction('convertToInteractive',\n",
              "                                                     [key], {});\n",
              "          if (!dataTable) return;\n",
              "\n",
              "          const docLinkHtml = 'Like what you see? Visit the ' +\n",
              "            '<a target=\"_blank\" href=https://colab.research.google.com/notebooks/data_table.ipynb>data table notebook</a>'\n",
              "            + ' to learn more about interactive tables.';\n",
              "          element.innerHTML = '';\n",
              "          dataTable['output_type'] = 'display_data';\n",
              "          await google.colab.output.renderOutput(dataTable, element);\n",
              "          const docLink = document.createElement('div');\n",
              "          docLink.innerHTML = docLinkHtml;\n",
              "          element.appendChild(docLink);\n",
              "        }\n",
              "      </script>\n",
              "    </div>\n",
              "  </div>\n",
              "  "
            ]
          },
          "metadata": {},
          "execution_count": 120
        }
      ]
    },
    {
      "cell_type": "markdown",
      "source": [
        "2.1 b) OR... Load Data from Scratch"
      ],
      "metadata": {
        "id": "-YHzKCeQqiNv"
      }
    },
    {
      "cell_type": "code",
      "source": [
        "# Load data into pandas dataframe - [1 sec]\n",
        "data = []\n",
        "\n",
        "for root, dirs, files in os.walk(\"/content/topics\"):\n",
        "    label = os.path.basename(root)\n",
        "    \n",
        "    for file in files:\n",
        "      path = root + '/' + file\n",
        "      poem = []\n",
        "      with open(path) as f:\n",
        "        poem = f.readlines()\n",
        "\n",
        "      poem_text = ''.join(poem)\n",
        "      pair = (poem_text, label)\n",
        "      data.append(pair)\n",
        "\n",
        "poems_df = pd.DataFrame(data, columns=['poem', 'label'])\n",
        "poems_df"
      ],
      "metadata": {
        "id": "b0iLmdFiR9K2",
        "outputId": "1af0ee0c-2abf-4867-dd84-ddc60ef14032",
        "colab": {
          "base_uri": "https://localhost:8080/",
          "height": 424
        }
      },
      "execution_count": 130,
      "outputs": [
        {
          "output_type": "execute_result",
          "data": {
            "text/plain": [
              "                                                    poem label\n",
              "0      Varus drags me into his affairs\\nout of the Fo...  girl\n",
              "1      \"She's pretty to walk with,\\nAnd witty to talk...  girl\n",
              "2      World-weary girl,\\nTears form in your eyes,\\nC...  girl\n",
              "3      There was a little girl,\\nWho had a little cur...  girl\n",
              "4      Thank you--she is my friend\\nIt's a rare posit...  girl\n",
              "...                                                  ...   ...\n",
              "14329  Remembered\\nA nation born from war, for the “p...   war\n",
              "14330  When in the course of human events, we choose ...   war\n",
              "14331  When your rationale for going to war\\nturns ou...   war\n",
              "14332  Looking out across the land,\\nI see a sight th...   war\n",
              "14333  A cloud has lowered that shall not soon pass o...   war\n",
              "\n",
              "[14334 rows x 2 columns]"
            ],
            "text/html": [
              "\n",
              "  <div id=\"df-98c874c9-cdd2-46c9-9f3f-d1b274e46a99\">\n",
              "    <div class=\"colab-df-container\">\n",
              "      <div>\n",
              "<style scoped>\n",
              "    .dataframe tbody tr th:only-of-type {\n",
              "        vertical-align: middle;\n",
              "    }\n",
              "\n",
              "    .dataframe tbody tr th {\n",
              "        vertical-align: top;\n",
              "    }\n",
              "\n",
              "    .dataframe thead th {\n",
              "        text-align: right;\n",
              "    }\n",
              "</style>\n",
              "<table border=\"1\" class=\"dataframe\">\n",
              "  <thead>\n",
              "    <tr style=\"text-align: right;\">\n",
              "      <th></th>\n",
              "      <th>poem</th>\n",
              "      <th>label</th>\n",
              "    </tr>\n",
              "  </thead>\n",
              "  <tbody>\n",
              "    <tr>\n",
              "      <th>0</th>\n",
              "      <td>Varus drags me into his affairs\\nout of the Fo...</td>\n",
              "      <td>girl</td>\n",
              "    </tr>\n",
              "    <tr>\n",
              "      <th>1</th>\n",
              "      <td>\"She's pretty to walk with,\\nAnd witty to talk...</td>\n",
              "      <td>girl</td>\n",
              "    </tr>\n",
              "    <tr>\n",
              "      <th>2</th>\n",
              "      <td>World-weary girl,\\nTears form in your eyes,\\nC...</td>\n",
              "      <td>girl</td>\n",
              "    </tr>\n",
              "    <tr>\n",
              "      <th>3</th>\n",
              "      <td>There was a little girl,\\nWho had a little cur...</td>\n",
              "      <td>girl</td>\n",
              "    </tr>\n",
              "    <tr>\n",
              "      <th>4</th>\n",
              "      <td>Thank you--she is my friend\\nIt's a rare posit...</td>\n",
              "      <td>girl</td>\n",
              "    </tr>\n",
              "    <tr>\n",
              "      <th>...</th>\n",
              "      <td>...</td>\n",
              "      <td>...</td>\n",
              "    </tr>\n",
              "    <tr>\n",
              "      <th>14329</th>\n",
              "      <td>Remembered\\nA nation born from war, for the “p...</td>\n",
              "      <td>war</td>\n",
              "    </tr>\n",
              "    <tr>\n",
              "      <th>14330</th>\n",
              "      <td>When in the course of human events, we choose ...</td>\n",
              "      <td>war</td>\n",
              "    </tr>\n",
              "    <tr>\n",
              "      <th>14331</th>\n",
              "      <td>When your rationale for going to war\\nturns ou...</td>\n",
              "      <td>war</td>\n",
              "    </tr>\n",
              "    <tr>\n",
              "      <th>14332</th>\n",
              "      <td>Looking out across the land,\\nI see a sight th...</td>\n",
              "      <td>war</td>\n",
              "    </tr>\n",
              "    <tr>\n",
              "      <th>14333</th>\n",
              "      <td>A cloud has lowered that shall not soon pass o...</td>\n",
              "      <td>war</td>\n",
              "    </tr>\n",
              "  </tbody>\n",
              "</table>\n",
              "<p>14334 rows × 2 columns</p>\n",
              "</div>\n",
              "      <button class=\"colab-df-convert\" onclick=\"convertToInteractive('df-98c874c9-cdd2-46c9-9f3f-d1b274e46a99')\"\n",
              "              title=\"Convert this dataframe to an interactive table.\"\n",
              "              style=\"display:none;\">\n",
              "        \n",
              "  <svg xmlns=\"http://www.w3.org/2000/svg\" height=\"24px\"viewBox=\"0 0 24 24\"\n",
              "       width=\"24px\">\n",
              "    <path d=\"M0 0h24v24H0V0z\" fill=\"none\"/>\n",
              "    <path d=\"M18.56 5.44l.94 2.06.94-2.06 2.06-.94-2.06-.94-.94-2.06-.94 2.06-2.06.94zm-11 1L8.5 8.5l.94-2.06 2.06-.94-2.06-.94L8.5 2.5l-.94 2.06-2.06.94zm10 10l.94 2.06.94-2.06 2.06-.94-2.06-.94-.94-2.06-.94 2.06-2.06.94z\"/><path d=\"M17.41 7.96l-1.37-1.37c-.4-.4-.92-.59-1.43-.59-.52 0-1.04.2-1.43.59L10.3 9.45l-7.72 7.72c-.78.78-.78 2.05 0 2.83L4 21.41c.39.39.9.59 1.41.59.51 0 1.02-.2 1.41-.59l7.78-7.78 2.81-2.81c.8-.78.8-2.07 0-2.86zM5.41 20L4 18.59l7.72-7.72 1.47 1.35L5.41 20z\"/>\n",
              "  </svg>\n",
              "      </button>\n",
              "      \n",
              "  <style>\n",
              "    .colab-df-container {\n",
              "      display:flex;\n",
              "      flex-wrap:wrap;\n",
              "      gap: 12px;\n",
              "    }\n",
              "\n",
              "    .colab-df-convert {\n",
              "      background-color: #E8F0FE;\n",
              "      border: none;\n",
              "      border-radius: 50%;\n",
              "      cursor: pointer;\n",
              "      display: none;\n",
              "      fill: #1967D2;\n",
              "      height: 32px;\n",
              "      padding: 0 0 0 0;\n",
              "      width: 32px;\n",
              "    }\n",
              "\n",
              "    .colab-df-convert:hover {\n",
              "      background-color: #E2EBFA;\n",
              "      box-shadow: 0px 1px 2px rgba(60, 64, 67, 0.3), 0px 1px 3px 1px rgba(60, 64, 67, 0.15);\n",
              "      fill: #174EA6;\n",
              "    }\n",
              "\n",
              "    [theme=dark] .colab-df-convert {\n",
              "      background-color: #3B4455;\n",
              "      fill: #D2E3FC;\n",
              "    }\n",
              "\n",
              "    [theme=dark] .colab-df-convert:hover {\n",
              "      background-color: #434B5C;\n",
              "      box-shadow: 0px 1px 3px 1px rgba(0, 0, 0, 0.15);\n",
              "      filter: drop-shadow(0px 1px 2px rgba(0, 0, 0, 0.3));\n",
              "      fill: #FFFFFF;\n",
              "    }\n",
              "  </style>\n",
              "\n",
              "      <script>\n",
              "        const buttonEl =\n",
              "          document.querySelector('#df-98c874c9-cdd2-46c9-9f3f-d1b274e46a99 button.colab-df-convert');\n",
              "        buttonEl.style.display =\n",
              "          google.colab.kernel.accessAllowed ? 'block' : 'none';\n",
              "\n",
              "        async function convertToInteractive(key) {\n",
              "          const element = document.querySelector('#df-98c874c9-cdd2-46c9-9f3f-d1b274e46a99');\n",
              "          const dataTable =\n",
              "            await google.colab.kernel.invokeFunction('convertToInteractive',\n",
              "                                                     [key], {});\n",
              "          if (!dataTable) return;\n",
              "\n",
              "          const docLinkHtml = 'Like what you see? Visit the ' +\n",
              "            '<a target=\"_blank\" href=https://colab.research.google.com/notebooks/data_table.ipynb>data table notebook</a>'\n",
              "            + ' to learn more about interactive tables.';\n",
              "          element.innerHTML = '';\n",
              "          dataTable['output_type'] = 'display_data';\n",
              "          await google.colab.output.renderOutput(dataTable, element);\n",
              "          const docLink = document.createElement('div');\n",
              "          docLink.innerHTML = docLinkHtml;\n",
              "          element.appendChild(docLink);\n",
              "        }\n",
              "      </script>\n",
              "    </div>\n",
              "  </div>\n",
              "  "
            ]
          },
          "metadata": {},
          "execution_count": 130
        }
      ]
    },
    {
      "cell_type": "markdown",
      "source": [
        "2.2 Text Cleaning and Simplification"
      ],
      "metadata": {
        "id": "tyqLft7Vs1CL"
      }
    },
    {
      "cell_type": "code",
      "source": [
        "# Text cleaning (Lemmatization, Stemming, Stop Words, Punctuation) - [10 mins]\n",
        "nltk.download('stopwords')\n",
        "nltk.download('wordnet')\n",
        "nltk.download('omw-1.4')\n",
        "nltk.download('averaged_perceptron_tagger')\n",
        "\n",
        "# https://www.machinelearningplus.com/nlp/lemmatization-examples-python/\n",
        "def get_wordnet_pos(word):\n",
        "    tag = nltk.pos_tag([word])[0][1][0].upper()\n",
        "    tag_dict = {\"J\": wordnet.ADJ,\n",
        "                \"N\": wordnet.NOUN,\n",
        "                \"V\": wordnet.VERB,\n",
        "                \"R\": wordnet.ADV}\n",
        "\n",
        "    return tag_dict.get(tag, wordnet.NOUN)\n",
        "\n",
        "# https://github.com/miguelfzafra/Latest-News-Classifier/blob/master/0.%20Latest%20News%20Classifier/03.%20Feature%20Engineering/03.%20Feature%20Engineering.ipynb\n",
        "poems_classifier_df = poems_df\n",
        "for idx in range(len(poems_classifier_df.poem)): \n",
        "    poem_clean = poems_classifier_df.poem[idx]\n",
        "\n",
        "    poem_clean = re.split('\\W+', poem_clean.lower())\n",
        "    poem_clean = [w for w in poem_clean if not w in set(stopwords.words('english'))]  # Remove stopwords\n",
        "    \n",
        "    lem = WordNetLemmatizer()\n",
        "    poem_clean = [lem.lemmatize(w, get_wordnet_pos(w)) for w in poem_clean if len(w) > 1]\n",
        "    \n",
        "    poem_clean = ' '.join(poem_clean)\n",
        "    poems_classifier_df.poem[idx] = poem_clean\n",
        "\n",
        "poems_classifier_df"
      ],
      "metadata": {
        "id": "zs3cmJ_CaOL1",
        "outputId": "0a01bfdc-4451-4656-8d16-9d096440bf0d",
        "colab": {
          "base_uri": "https://localhost:8080/",
          "height": 545
        }
      },
      "execution_count": 9,
      "outputs": [
        {
          "output_type": "stream",
          "name": "stderr",
          "text": [
            "[nltk_data] Downloading package stopwords to /root/nltk_data...\n",
            "[nltk_data]   Unzipping corpora/stopwords.zip.\n",
            "[nltk_data] Downloading package wordnet to /root/nltk_data...\n",
            "[nltk_data] Downloading package omw-1.4 to /root/nltk_data...\n",
            "[nltk_data] Downloading package averaged_perceptron_tagger to\n",
            "[nltk_data]     /root/nltk_data...\n",
            "[nltk_data]   Unzipping taggers/averaged_perceptron_tagger.zip.\n"
          ]
        },
        {
          "output_type": "execute_result",
          "data": {
            "text/plain": [
              "                                                    poem label\n",
              "0      varus drag affair forum see idle little whore ...  girl\n",
              "1      pretty walk witty talk pleasant think sir john...  girl\n",
              "2      world weary girl tear form eye confusion swirl...  girl\n",
              "3      little girl little curl right middle forehead ...  girl\n",
              "4      thank friend rare positive care like sister wo...  girl\n",
              "...                                                  ...   ...\n",
              "14329  remember nation born war purpose establish fre...   war\n",
              "14330  course human event choose go war choose intere...   war\n",
              "14331  rationale go war turn false claim would go war...   war\n",
              "14332  look across land see sight grand scene eerie s...   war\n",
              "14333  cloud lower shall soon pas er world take side ...   war\n",
              "\n",
              "[14334 rows x 2 columns]"
            ],
            "text/html": [
              "\n",
              "  <div id=\"df-112c82a7-70ee-4765-80d5-c948fa469bda\">\n",
              "    <div class=\"colab-df-container\">\n",
              "      <div>\n",
              "<style scoped>\n",
              "    .dataframe tbody tr th:only-of-type {\n",
              "        vertical-align: middle;\n",
              "    }\n",
              "\n",
              "    .dataframe tbody tr th {\n",
              "        vertical-align: top;\n",
              "    }\n",
              "\n",
              "    .dataframe thead th {\n",
              "        text-align: right;\n",
              "    }\n",
              "</style>\n",
              "<table border=\"1\" class=\"dataframe\">\n",
              "  <thead>\n",
              "    <tr style=\"text-align: right;\">\n",
              "      <th></th>\n",
              "      <th>poem</th>\n",
              "      <th>label</th>\n",
              "    </tr>\n",
              "  </thead>\n",
              "  <tbody>\n",
              "    <tr>\n",
              "      <th>0</th>\n",
              "      <td>varus drag affair forum see idle little whore ...</td>\n",
              "      <td>girl</td>\n",
              "    </tr>\n",
              "    <tr>\n",
              "      <th>1</th>\n",
              "      <td>pretty walk witty talk pleasant think sir john...</td>\n",
              "      <td>girl</td>\n",
              "    </tr>\n",
              "    <tr>\n",
              "      <th>2</th>\n",
              "      <td>world weary girl tear form eye confusion swirl...</td>\n",
              "      <td>girl</td>\n",
              "    </tr>\n",
              "    <tr>\n",
              "      <th>3</th>\n",
              "      <td>little girl little curl right middle forehead ...</td>\n",
              "      <td>girl</td>\n",
              "    </tr>\n",
              "    <tr>\n",
              "      <th>4</th>\n",
              "      <td>thank friend rare positive care like sister wo...</td>\n",
              "      <td>girl</td>\n",
              "    </tr>\n",
              "    <tr>\n",
              "      <th>...</th>\n",
              "      <td>...</td>\n",
              "      <td>...</td>\n",
              "    </tr>\n",
              "    <tr>\n",
              "      <th>14329</th>\n",
              "      <td>remember nation born war purpose establish fre...</td>\n",
              "      <td>war</td>\n",
              "    </tr>\n",
              "    <tr>\n",
              "      <th>14330</th>\n",
              "      <td>course human event choose go war choose intere...</td>\n",
              "      <td>war</td>\n",
              "    </tr>\n",
              "    <tr>\n",
              "      <th>14331</th>\n",
              "      <td>rationale go war turn false claim would go war...</td>\n",
              "      <td>war</td>\n",
              "    </tr>\n",
              "    <tr>\n",
              "      <th>14332</th>\n",
              "      <td>look across land see sight grand scene eerie s...</td>\n",
              "      <td>war</td>\n",
              "    </tr>\n",
              "    <tr>\n",
              "      <th>14333</th>\n",
              "      <td>cloud lower shall soon pas er world take side ...</td>\n",
              "      <td>war</td>\n",
              "    </tr>\n",
              "  </tbody>\n",
              "</table>\n",
              "<p>14334 rows × 2 columns</p>\n",
              "</div>\n",
              "      <button class=\"colab-df-convert\" onclick=\"convertToInteractive('df-112c82a7-70ee-4765-80d5-c948fa469bda')\"\n",
              "              title=\"Convert this dataframe to an interactive table.\"\n",
              "              style=\"display:none;\">\n",
              "        \n",
              "  <svg xmlns=\"http://www.w3.org/2000/svg\" height=\"24px\"viewBox=\"0 0 24 24\"\n",
              "       width=\"24px\">\n",
              "    <path d=\"M0 0h24v24H0V0z\" fill=\"none\"/>\n",
              "    <path d=\"M18.56 5.44l.94 2.06.94-2.06 2.06-.94-2.06-.94-.94-2.06-.94 2.06-2.06.94zm-11 1L8.5 8.5l.94-2.06 2.06-.94-2.06-.94L8.5 2.5l-.94 2.06-2.06.94zm10 10l.94 2.06.94-2.06 2.06-.94-2.06-.94-.94-2.06-.94 2.06-2.06.94z\"/><path d=\"M17.41 7.96l-1.37-1.37c-.4-.4-.92-.59-1.43-.59-.52 0-1.04.2-1.43.59L10.3 9.45l-7.72 7.72c-.78.78-.78 2.05 0 2.83L4 21.41c.39.39.9.59 1.41.59.51 0 1.02-.2 1.41-.59l7.78-7.78 2.81-2.81c.8-.78.8-2.07 0-2.86zM5.41 20L4 18.59l7.72-7.72 1.47 1.35L5.41 20z\"/>\n",
              "  </svg>\n",
              "      </button>\n",
              "      \n",
              "  <style>\n",
              "    .colab-df-container {\n",
              "      display:flex;\n",
              "      flex-wrap:wrap;\n",
              "      gap: 12px;\n",
              "    }\n",
              "\n",
              "    .colab-df-convert {\n",
              "      background-color: #E8F0FE;\n",
              "      border: none;\n",
              "      border-radius: 50%;\n",
              "      cursor: pointer;\n",
              "      display: none;\n",
              "      fill: #1967D2;\n",
              "      height: 32px;\n",
              "      padding: 0 0 0 0;\n",
              "      width: 32px;\n",
              "    }\n",
              "\n",
              "    .colab-df-convert:hover {\n",
              "      background-color: #E2EBFA;\n",
              "      box-shadow: 0px 1px 2px rgba(60, 64, 67, 0.3), 0px 1px 3px 1px rgba(60, 64, 67, 0.15);\n",
              "      fill: #174EA6;\n",
              "    }\n",
              "\n",
              "    [theme=dark] .colab-df-convert {\n",
              "      background-color: #3B4455;\n",
              "      fill: #D2E3FC;\n",
              "    }\n",
              "\n",
              "    [theme=dark] .colab-df-convert:hover {\n",
              "      background-color: #434B5C;\n",
              "      box-shadow: 0px 1px 3px 1px rgba(0, 0, 0, 0.15);\n",
              "      filter: drop-shadow(0px 1px 2px rgba(0, 0, 0, 0.3));\n",
              "      fill: #FFFFFF;\n",
              "    }\n",
              "  </style>\n",
              "\n",
              "      <script>\n",
              "        const buttonEl =\n",
              "          document.querySelector('#df-112c82a7-70ee-4765-80d5-c948fa469bda button.colab-df-convert');\n",
              "        buttonEl.style.display =\n",
              "          google.colab.kernel.accessAllowed ? 'block' : 'none';\n",
              "\n",
              "        async function convertToInteractive(key) {\n",
              "          const element = document.querySelector('#df-112c82a7-70ee-4765-80d5-c948fa469bda');\n",
              "          const dataTable =\n",
              "            await google.colab.kernel.invokeFunction('convertToInteractive',\n",
              "                                                     [key], {});\n",
              "          if (!dataTable) return;\n",
              "\n",
              "          const docLinkHtml = 'Like what you see? Visit the ' +\n",
              "            '<a target=\"_blank\" href=https://colab.research.google.com/notebooks/data_table.ipynb>data table notebook</a>'\n",
              "            + ' to learn more about interactive tables.';\n",
              "          element.innerHTML = '';\n",
              "          dataTable['output_type'] = 'display_data';\n",
              "          await google.colab.output.renderOutput(dataTable, element);\n",
              "          const docLink = document.createElement('div');\n",
              "          docLink.innerHTML = docLinkHtml;\n",
              "          element.appendChild(docLink);\n",
              "        }\n",
              "      </script>\n",
              "    </div>\n",
              "  </div>\n",
              "  "
            ]
          },
          "metadata": {},
          "execution_count": 9
        }
      ]
    },
    {
      "cell_type": "code",
      "source": [
        "# Re-map each label\n",
        "\n",
        "categories_dictionary = {\n",
        "  \"alone\": \"sad\",\n",
        "  \"america\": \"location\",\n",
        "  \"angel\": \"religious\",\n",
        "  \"anger\": \"evil\",\n",
        "  \"animal\": \"animal\",\n",
        "  \"baby\": \"family\",\n",
        "  \"beach\": \"nature\",\n",
        "  \"beautiful\": \"love\",\n",
        "  \"beauty\": \"love\",\n",
        "  \"believe\": \"inspirational\",\n",
        "  \"birth\": \"happy\",\n",
        "  \"brother\": \"family\",\n",
        "  \"butterfly\": \"animal\",\n",
        "  \"car\": \"object\",\n",
        "  \"carpe diem\": \"inspirational\",\n",
        "  \"change\": \"unknown\",\n",
        "  \"chicago\": \"location\",\n",
        "  \"childhood\": \"unknown\",\n",
        "  \"children\": \"family\",\n",
        "  \"christmas\": \"happy\",\n",
        "  \"cinderella\": \"unknown\",\n",
        "  \"city\": \"location\",\n",
        "  \"courage\": \"inspirational\",\n",
        "  \"crazy\": \"evil\",\n",
        "  \"culture\": \"unknown\",\n",
        "  \"dance\": \"activity\",\n",
        "  \"dark\": \"sad\",\n",
        "  \"daughter\": \"family\",\n",
        "  \"death\": \"sad\",\n",
        "  \"depression\": \"sad\",\n",
        "  \"despair\": \"sad\",\n",
        "  \"destiny\": \"inspirational\",\n",
        "  \"dream\": \"inspirational\",\n",
        "  \"evil\": \"evil\",\n",
        "  \"faith\": \"religious\",\n",
        "  \"family\": \"family\",\n",
        "  \"father\": \"family\",\n",
        "  \"fear\": \"evil\",\n",
        "  \"fire\": \"unknown\",\n",
        "  \"food\": \"object\",\n",
        "  \"football\": \"object\",\n",
        "  \"freedom\": \"inspirational\",\n",
        "  \"friend\": \"family\",\n",
        "  \"frog\": \"animal\",\n",
        "  \"funeral\": \"sad\",\n",
        "  \"funny\": \"happy\",\n",
        "  \"future\": \"unknown\",\n",
        "  \"girl\": \"unknown\",\n",
        "  \"god\": \"religious\",\n",
        "  \"graduation\": \"unknown\",\n",
        "  \"greed\": \"evil\",\n",
        "  \"green\": \"object\",\n",
        "  \"hair\": \"object\",\n",
        "  \"happiness\": \"happy\",\n",
        "  \"happy\": \"happy\",\n",
        "  \"hate\": \"evil\",\n",
        "  \"heaven\": \"happy\",\n",
        "  \"hero\": \"inspirational\",\n",
        "  \"home\": \"family\",\n",
        "  \"hope\": \"inspirational\",\n",
        "  \"house\": \"family\",\n",
        "  \"hunting\": \"activity\",\n",
        "  \"husband\": \"family\",\n",
        "  \"identity\": \"unknown\",\n",
        "  \"innocence\": \"unknown\",\n",
        "  \"january\": \"unknown\",\n",
        "  \"joy\": \"happy\",\n",
        "  \"june\": \"unknown\",\n",
        "  \"justice\": \"inspirational\",\n",
        "  \"kiss\": \"love\",\n",
        "  \"laughter\": \"happy\",\n",
        "  \"life\": \"introspection\",\n",
        "  \"lonely\": \"sad\",\n",
        "  \"loss\": \"sad\",\n",
        "  \"lost\": \"sad\",\n",
        "  \"love\": \"love\",\n",
        "  \"lust\": \"evil\",\n",
        "  \"marriage\": \"love\",\n",
        "  \"memory\": \"introspection\",\n",
        "  \"mirror\": \"object\",\n",
        "  \"money\": \"object\",\n",
        "  \"moon\": \"object\",\n",
        "  \"mother\": \"family\",\n",
        "  \"murder\": \"evil\",\n",
        "  \"music\": \"unknown\",\n",
        "  \"nature\": \"nature\",\n",
        "  \"night\": \"unknown\",\n",
        "  \"ocean\": \"nature\",\n",
        "  \"paris\": \"location\",\n",
        "  \"passion\": \"love\",\n",
        "  \"peace\": \"happy\",\n",
        "  \"pink\": \"object\",\n",
        "  \"poem\": \"unknown\",\n",
        "  \"poetry\": \"unknown\",\n",
        "  \"poverty\": \"sad\",\n",
        "  \"power\": \"unknown\",\n",
        "  \"racism\": \"evil\",\n",
        "  \"rain\": \"nature\",\n",
        "  \"rainbow\": \"happy\",\n",
        "  \"red\": \"object\",\n",
        "  \"remember\": \"introspection\",\n",
        "  \"respect\": \"love\",\n",
        "  \"river\": \"nature\",\n",
        "  \"romance\": \"love\",\n",
        "  \"romantic\": \"love\",\n",
        "  \"rose\": \"love\",\n",
        "  \"running\": \"activity\",\n",
        "  \"school\": \"activity\",\n",
        "  \"sea\": \"nature\",\n",
        "  \"sick\": \"sad\",\n",
        "  \"silver\": \"object\",\n",
        "  \"sister\": \"family\",\n",
        "  \"sky\": \"nature\",\n",
        "  \"sleep\": \"activity\",\n",
        "  \"snake\": \"unknown\",\n",
        "  \"soldier\": \"unknown\",\n",
        "  \"sometimes\": \"unknown\",\n",
        "  \"son\": \"family\",\n",
        "  \"song\": \"unknown\",\n",
        "  \"sorrow\": \"sad\",\n",
        "  \"spring\": \"nature\",\n",
        "  \"star\": \"nature\",\n",
        "  \"success\": \"inspirational\",\n",
        "  \"suicide\": \"sad\",\n",
        "  \"summer\": \"nature\",\n",
        "  \"sun\": \"nature\",\n",
        "  \"swimming\": \"activity\",\n",
        "  \"sympathy\": \"sad\",\n",
        "  \"teacher\": \"activity\",\n",
        "  \"thanks\": \"happy\",\n",
        "  \"time\": \"introspection\",\n",
        "  \"today\": \"unknown\",\n",
        "  \"together\": \"love\",\n",
        "  \"travel\": \"activity\",\n",
        "  \"trust\": \"love\",\n",
        "  \"truth\": \"unknown\",\n",
        "  \"unknown\": \"unknown\",\n",
        "  \"war\": \"evil\",\n",
        "  \"warning\": \"evil\",\n",
        "  \"water\": \"object\",\n",
        "  \"weather\": \"nature\",\n",
        "  \"wedding\": \"love\",\n",
        "  \"winter\": \"nature\",\n",
        "  \"work\": \"activity\",\n",
        "  \"world\": \"unknown\",\n",
        "}"
      ],
      "metadata": {
        "id": "_7dimZZIQv4A"
      },
      "execution_count": 121,
      "outputs": []
    },
    {
      "cell_type": "code",
      "source": [
        "# Replace labels\n",
        "for idx, label in enumerate(poems_classifier_df.label):\n",
        "  if label in categories_dictionary:\n",
        "    poems_classifier_df.label[idx] = categories_dictionary[label]\n",
        "\n",
        "# Drop miscellaneous poems\n",
        "drop_labels = [\"unknown\", \"object\", \"animal\", \"location\", \"religious\", \"introspection\", \"activity\"]\n",
        "for label in drop_labels:\n",
        "  poems_classifier_df = poems_classifier_df[poems_classifier_df.label != label]\n",
        "\n",
        "poems_classifier_df"
      ],
      "metadata": {
        "id": "Bn3iDkc7Tb2I",
        "outputId": "68d1115b-cb03-4d9e-ae4e-fc9406217d8c",
        "colab": {
          "base_uri": "https://localhost:8080/",
          "height": 510
        }
      },
      "execution_count": 122,
      "outputs": [
        {
          "output_type": "stream",
          "name": "stderr",
          "text": [
            "<ipython-input-122-e59feed2d8ac>:4: SettingWithCopyWarning: \n",
            "A value is trying to be set on a copy of a slice from a DataFrame\n",
            "\n",
            "See the caveats in the documentation: https://pandas.pydata.org/pandas-docs/stable/user_guide/indexing.html#returning-a-view-versus-a-copy\n",
            "  poems_classifier_df.label[idx] = categories_dictionary[label]\n"
          ]
        },
        {
          "output_type": "execute_result",
          "data": {
            "text/plain": [
              "       Unnamed: 0                                               poem   label\n",
              "100           100  slant sun dull brown wall forgotten sky bashfu...  nature\n",
              "101           101  hast thou charm stay morning star steep course...  nature\n",
              "102           102  sun generous dad love bask bright true moon se...  nature\n",
              "103           103  sometimes mortal feel nature father mother sti...  nature\n",
              "104           104  sun go shin debbil beat wife blue played lefth...  nature\n",
              "...           ...                                                ...     ...\n",
              "14329       14329  remember nation born war purpose establish fre...    evil\n",
              "14330       14330  course human event choose go war choose intere...    evil\n",
              "14331       14331  rationale go war turn false claim would go war...    evil\n",
              "14332       14332  look across land see sight grand scene eerie s...    evil\n",
              "14333       14333  cloud lower shall soon pas er world take side ...    evil\n",
              "\n",
              "[8459 rows x 3 columns]"
            ],
            "text/html": [
              "\n",
              "  <div id=\"df-7541d8e2-e547-4dba-a5a1-b267432776fc\">\n",
              "    <div class=\"colab-df-container\">\n",
              "      <div>\n",
              "<style scoped>\n",
              "    .dataframe tbody tr th:only-of-type {\n",
              "        vertical-align: middle;\n",
              "    }\n",
              "\n",
              "    .dataframe tbody tr th {\n",
              "        vertical-align: top;\n",
              "    }\n",
              "\n",
              "    .dataframe thead th {\n",
              "        text-align: right;\n",
              "    }\n",
              "</style>\n",
              "<table border=\"1\" class=\"dataframe\">\n",
              "  <thead>\n",
              "    <tr style=\"text-align: right;\">\n",
              "      <th></th>\n",
              "      <th>Unnamed: 0</th>\n",
              "      <th>poem</th>\n",
              "      <th>label</th>\n",
              "    </tr>\n",
              "  </thead>\n",
              "  <tbody>\n",
              "    <tr>\n",
              "      <th>100</th>\n",
              "      <td>100</td>\n",
              "      <td>slant sun dull brown wall forgotten sky bashfu...</td>\n",
              "      <td>nature</td>\n",
              "    </tr>\n",
              "    <tr>\n",
              "      <th>101</th>\n",
              "      <td>101</td>\n",
              "      <td>hast thou charm stay morning star steep course...</td>\n",
              "      <td>nature</td>\n",
              "    </tr>\n",
              "    <tr>\n",
              "      <th>102</th>\n",
              "      <td>102</td>\n",
              "      <td>sun generous dad love bask bright true moon se...</td>\n",
              "      <td>nature</td>\n",
              "    </tr>\n",
              "    <tr>\n",
              "      <th>103</th>\n",
              "      <td>103</td>\n",
              "      <td>sometimes mortal feel nature father mother sti...</td>\n",
              "      <td>nature</td>\n",
              "    </tr>\n",
              "    <tr>\n",
              "      <th>104</th>\n",
              "      <td>104</td>\n",
              "      <td>sun go shin debbil beat wife blue played lefth...</td>\n",
              "      <td>nature</td>\n",
              "    </tr>\n",
              "    <tr>\n",
              "      <th>...</th>\n",
              "      <td>...</td>\n",
              "      <td>...</td>\n",
              "      <td>...</td>\n",
              "    </tr>\n",
              "    <tr>\n",
              "      <th>14329</th>\n",
              "      <td>14329</td>\n",
              "      <td>remember nation born war purpose establish fre...</td>\n",
              "      <td>evil</td>\n",
              "    </tr>\n",
              "    <tr>\n",
              "      <th>14330</th>\n",
              "      <td>14330</td>\n",
              "      <td>course human event choose go war choose intere...</td>\n",
              "      <td>evil</td>\n",
              "    </tr>\n",
              "    <tr>\n",
              "      <th>14331</th>\n",
              "      <td>14331</td>\n",
              "      <td>rationale go war turn false claim would go war...</td>\n",
              "      <td>evil</td>\n",
              "    </tr>\n",
              "    <tr>\n",
              "      <th>14332</th>\n",
              "      <td>14332</td>\n",
              "      <td>look across land see sight grand scene eerie s...</td>\n",
              "      <td>evil</td>\n",
              "    </tr>\n",
              "    <tr>\n",
              "      <th>14333</th>\n",
              "      <td>14333</td>\n",
              "      <td>cloud lower shall soon pas er world take side ...</td>\n",
              "      <td>evil</td>\n",
              "    </tr>\n",
              "  </tbody>\n",
              "</table>\n",
              "<p>8459 rows × 3 columns</p>\n",
              "</div>\n",
              "      <button class=\"colab-df-convert\" onclick=\"convertToInteractive('df-7541d8e2-e547-4dba-a5a1-b267432776fc')\"\n",
              "              title=\"Convert this dataframe to an interactive table.\"\n",
              "              style=\"display:none;\">\n",
              "        \n",
              "  <svg xmlns=\"http://www.w3.org/2000/svg\" height=\"24px\"viewBox=\"0 0 24 24\"\n",
              "       width=\"24px\">\n",
              "    <path d=\"M0 0h24v24H0V0z\" fill=\"none\"/>\n",
              "    <path d=\"M18.56 5.44l.94 2.06.94-2.06 2.06-.94-2.06-.94-.94-2.06-.94 2.06-2.06.94zm-11 1L8.5 8.5l.94-2.06 2.06-.94-2.06-.94L8.5 2.5l-.94 2.06-2.06.94zm10 10l.94 2.06.94-2.06 2.06-.94-2.06-.94-.94-2.06-.94 2.06-2.06.94z\"/><path d=\"M17.41 7.96l-1.37-1.37c-.4-.4-.92-.59-1.43-.59-.52 0-1.04.2-1.43.59L10.3 9.45l-7.72 7.72c-.78.78-.78 2.05 0 2.83L4 21.41c.39.39.9.59 1.41.59.51 0 1.02-.2 1.41-.59l7.78-7.78 2.81-2.81c.8-.78.8-2.07 0-2.86zM5.41 20L4 18.59l7.72-7.72 1.47 1.35L5.41 20z\"/>\n",
              "  </svg>\n",
              "      </button>\n",
              "      \n",
              "  <style>\n",
              "    .colab-df-container {\n",
              "      display:flex;\n",
              "      flex-wrap:wrap;\n",
              "      gap: 12px;\n",
              "    }\n",
              "\n",
              "    .colab-df-convert {\n",
              "      background-color: #E8F0FE;\n",
              "      border: none;\n",
              "      border-radius: 50%;\n",
              "      cursor: pointer;\n",
              "      display: none;\n",
              "      fill: #1967D2;\n",
              "      height: 32px;\n",
              "      padding: 0 0 0 0;\n",
              "      width: 32px;\n",
              "    }\n",
              "\n",
              "    .colab-df-convert:hover {\n",
              "      background-color: #E2EBFA;\n",
              "      box-shadow: 0px 1px 2px rgba(60, 64, 67, 0.3), 0px 1px 3px 1px rgba(60, 64, 67, 0.15);\n",
              "      fill: #174EA6;\n",
              "    }\n",
              "\n",
              "    [theme=dark] .colab-df-convert {\n",
              "      background-color: #3B4455;\n",
              "      fill: #D2E3FC;\n",
              "    }\n",
              "\n",
              "    [theme=dark] .colab-df-convert:hover {\n",
              "      background-color: #434B5C;\n",
              "      box-shadow: 0px 1px 3px 1px rgba(0, 0, 0, 0.15);\n",
              "      filter: drop-shadow(0px 1px 2px rgba(0, 0, 0, 0.3));\n",
              "      fill: #FFFFFF;\n",
              "    }\n",
              "  </style>\n",
              "\n",
              "      <script>\n",
              "        const buttonEl =\n",
              "          document.querySelector('#df-7541d8e2-e547-4dba-a5a1-b267432776fc button.colab-df-convert');\n",
              "        buttonEl.style.display =\n",
              "          google.colab.kernel.accessAllowed ? 'block' : 'none';\n",
              "\n",
              "        async function convertToInteractive(key) {\n",
              "          const element = document.querySelector('#df-7541d8e2-e547-4dba-a5a1-b267432776fc');\n",
              "          const dataTable =\n",
              "            await google.colab.kernel.invokeFunction('convertToInteractive',\n",
              "                                                     [key], {});\n",
              "          if (!dataTable) return;\n",
              "\n",
              "          const docLinkHtml = 'Like what you see? Visit the ' +\n",
              "            '<a target=\"_blank\" href=https://colab.research.google.com/notebooks/data_table.ipynb>data table notebook</a>'\n",
              "            + ' to learn more about interactive tables.';\n",
              "          element.innerHTML = '';\n",
              "          dataTable['output_type'] = 'display_data';\n",
              "          await google.colab.output.renderOutput(dataTable, element);\n",
              "          const docLink = document.createElement('div');\n",
              "          docLink.innerHTML = docLinkHtml;\n",
              "          element.appendChild(docLink);\n",
              "        }\n",
              "      </script>\n",
              "    </div>\n",
              "  </div>\n",
              "  "
            ]
          },
          "metadata": {},
          "execution_count": 122
        }
      ]
    },
    {
      "cell_type": "markdown",
      "source": [
        "2.3 EDA"
      ],
      "metadata": {
        "id": "X4vGVVqRsWJK"
      }
    },
    {
      "cell_type": "code",
      "source": [
        "# Frequency Distribution of labels\n",
        "\n",
        "fig, ax = plt.subplots()\n",
        "poems_classifier_df['label'].value_counts().plot(ax=ax, kind='bar')\n",
        "plt.xlabel(\"Label\")\n",
        "plt.ylabel(\"Count\")\n",
        "plt.title(\"Frequency Distribution of Labels\")"
      ],
      "metadata": {
        "id": "svE0UuVfUCvQ",
        "outputId": "4057488d-650e-4f9b-ab06-8fbfae200516",
        "colab": {
          "base_uri": "https://localhost:8080/",
          "height": 364
        }
      },
      "execution_count": 124,
      "outputs": [
        {
          "output_type": "execute_result",
          "data": {
            "text/plain": [
              "Text(0.5, 1.0, 'Frequency Distribution of Labels')"
            ]
          },
          "metadata": {},
          "execution_count": 124
        },
        {
          "output_type": "display_data",
          "data": {
            "text/plain": [
              "<Figure size 432x288 with 1 Axes>"
            ],
            "image/png": "[encoded data removed]"
          },
          "metadata": {
            "needs_background": "light"
          }
        }
      ]
    },
    {
      "cell_type": "markdown",
      "source": [
        "2.4 Input/Output Encoding"
      ],
      "metadata": {
        "id": "5UFRaz3ssgW1"
      }
    },
    {
      "cell_type": "code",
      "source": [
        "# Label Encoder - [1 sec]\n",
        "enc = LabelEncoder()\n",
        "poems_classifier_df[\"label_encoded\"] = enc.fit_transform( poems_classifier_df[\"label\"] )\n",
        "\n",
        "print(f\"Encodings: {list(zip(range(0,7), enc.classes_))}\\n\")\n",
        "\n",
        "# TF-IDF - [2 sec]\n",
        "X, y = poems_classifier_df[\"poem\"].values.astype(\"U\"), poems_classifier_df[\"label_encoded\"].values\n",
        "\n",
        "vectorizer = TfidfVectorizer(max_features=1500)\n",
        "X_vectorized = vectorizer.fit_transform(X).toarray()\n",
        "\n",
        "poems_classifier_df"
      ],
      "metadata": {
        "colab": {
          "base_uri": "https://localhost:8080/",
          "height": 458
        },
        "id": "Y5_0ouYnagUw",
        "outputId": "0e9356a7-fb74-46db-f0c7-458ce3032c6d"
      },
      "execution_count": 125,
      "outputs": [
        {
          "output_type": "stream",
          "name": "stdout",
          "text": [
            "Encodings: [(0, 'evil'), (1, 'family'), (2, 'happy'), (3, 'inspirational'), (4, 'love'), (5, 'nature'), (6, 'sad')]\n",
            "\n"
          ]
        },
        {
          "output_type": "execute_result",
          "data": {
            "text/plain": [
              "       Unnamed: 0                                               poem   label  \\\n",
              "100           100  slant sun dull brown wall forgotten sky bashfu...  nature   \n",
              "101           101  hast thou charm stay morning star steep course...  nature   \n",
              "102           102  sun generous dad love bask bright true moon se...  nature   \n",
              "103           103  sometimes mortal feel nature father mother sti...  nature   \n",
              "104           104  sun go shin debbil beat wife blue played lefth...  nature   \n",
              "...           ...                                                ...     ...   \n",
              "14329       14329  remember nation born war purpose establish fre...    evil   \n",
              "14330       14330  course human event choose go war choose intere...    evil   \n",
              "14331       14331  rationale go war turn false claim would go war...    evil   \n",
              "14332       14332  look across land see sight grand scene eerie s...    evil   \n",
              "14333       14333  cloud lower shall soon pas er world take side ...    evil   \n",
              "\n",
              "       label_encoded  \n",
              "100                5  \n",
              "101                5  \n",
              "102                5  \n",
              "103                5  \n",
              "104                5  \n",
              "...              ...  \n",
              "14329              0  \n",
              "14330              0  \n",
              "14331              0  \n",
              "14332              0  \n",
              "14333              0  \n",
              "\n",
              "[8459 rows x 4 columns]"
            ],
            "text/html": [
              "\n",
              "  <div id=\"df-d63f3476-1896-47e9-8627-025f0b1fc4ac\">\n",
              "    <div class=\"colab-df-container\">\n",
              "      <div>\n",
              "<style scoped>\n",
              "    .dataframe tbody tr th:only-of-type {\n",
              "        vertical-align: middle;\n",
              "    }\n",
              "\n",
              "    .dataframe tbody tr th {\n",
              "        vertical-align: top;\n",
              "    }\n",
              "\n",
              "    .dataframe thead th {\n",
              "        text-align: right;\n",
              "    }\n",
              "</style>\n",
              "<table border=\"1\" class=\"dataframe\">\n",
              "  <thead>\n",
              "    <tr style=\"text-align: right;\">\n",
              "      <th></th>\n",
              "      <th>Unnamed: 0</th>\n",
              "      <th>poem</th>\n",
              "      <th>label</th>\n",
              "      <th>label_encoded</th>\n",
              "    </tr>\n",
              "  </thead>\n",
              "  <tbody>\n",
              "    <tr>\n",
              "      <th>100</th>\n",
              "      <td>100</td>\n",
              "      <td>slant sun dull brown wall forgotten sky bashfu...</td>\n",
              "      <td>nature</td>\n",
              "      <td>5</td>\n",
              "    </tr>\n",
              "    <tr>\n",
              "      <th>101</th>\n",
              "      <td>101</td>\n",
              "      <td>hast thou charm stay morning star steep course...</td>\n",
              "      <td>nature</td>\n",
              "      <td>5</td>\n",
              "    </tr>\n",
              "    <tr>\n",
              "      <th>102</th>\n",
              "      <td>102</td>\n",
              "      <td>sun generous dad love bask bright true moon se...</td>\n",
              "      <td>nature</td>\n",
              "      <td>5</td>\n",
              "    </tr>\n",
              "    <tr>\n",
              "      <th>103</th>\n",
              "      <td>103</td>\n",
              "      <td>sometimes mortal feel nature father mother sti...</td>\n",
              "      <td>nature</td>\n",
              "      <td>5</td>\n",
              "    </tr>\n",
              "    <tr>\n",
              "      <th>104</th>\n",
              "      <td>104</td>\n",
              "      <td>sun go shin debbil beat wife blue played lefth...</td>\n",
              "      <td>nature</td>\n",
              "      <td>5</td>\n",
              "    </tr>\n",
              "    <tr>\n",
              "      <th>...</th>\n",
              "      <td>...</td>\n",
              "      <td>...</td>\n",
              "      <td>...</td>\n",
              "      <td>...</td>\n",
              "    </tr>\n",
              "    <tr>\n",
              "      <th>14329</th>\n",
              "      <td>14329</td>\n",
              "      <td>remember nation born war purpose establish fre...</td>\n",
              "      <td>evil</td>\n",
              "      <td>0</td>\n",
              "    </tr>\n",
              "    <tr>\n",
              "      <th>14330</th>\n",
              "      <td>14330</td>\n",
              "      <td>course human event choose go war choose intere...</td>\n",
              "      <td>evil</td>\n",
              "      <td>0</td>\n",
              "    </tr>\n",
              "    <tr>\n",
              "      <th>14331</th>\n",
              "      <td>14331</td>\n",
              "      <td>rationale go war turn false claim would go war...</td>\n",
              "      <td>evil</td>\n",
              "      <td>0</td>\n",
              "    </tr>\n",
              "    <tr>\n",
              "      <th>14332</th>\n",
              "      <td>14332</td>\n",
              "      <td>look across land see sight grand scene eerie s...</td>\n",
              "      <td>evil</td>\n",
              "      <td>0</td>\n",
              "    </tr>\n",
              "    <tr>\n",
              "      <th>14333</th>\n",
              "      <td>14333</td>\n",
              "      <td>cloud lower shall soon pas er world take side ...</td>\n",
              "      <td>evil</td>\n",
              "      <td>0</td>\n",
              "    </tr>\n",
              "  </tbody>\n",
              "</table>\n",
              "<p>8459 rows × 4 columns</p>\n",
              "</div>\n",
              "      <button class=\"colab-df-convert\" onclick=\"convertToInteractive('df-d63f3476-1896-47e9-8627-025f0b1fc4ac')\"\n",
              "              title=\"Convert this dataframe to an interactive table.\"\n",
              "              style=\"display:none;\">\n",
              "        \n",
              "  <svg xmlns=\"http://www.w3.org/2000/svg\" height=\"24px\"viewBox=\"0 0 24 24\"\n",
              "       width=\"24px\">\n",
              "    <path d=\"M0 0h24v24H0V0z\" fill=\"none\"/>\n",
              "    <path d=\"M18.56 5.44l.94 2.06.94-2.06 2.06-.94-2.06-.94-.94-2.06-.94 2.06-2.06.94zm-11 1L8.5 8.5l.94-2.06 2.06-.94-2.06-.94L8.5 2.5l-.94 2.06-2.06.94zm10 10l.94 2.06.94-2.06 2.06-.94-2.06-.94-.94-2.06-.94 2.06-2.06.94z\"/><path d=\"M17.41 7.96l-1.37-1.37c-.4-.4-.92-.59-1.43-.59-.52 0-1.04.2-1.43.59L10.3 9.45l-7.72 7.72c-.78.78-.78 2.05 0 2.83L4 21.41c.39.39.9.59 1.41.59.51 0 1.02-.2 1.41-.59l7.78-7.78 2.81-2.81c.8-.78.8-2.07 0-2.86zM5.41 20L4 18.59l7.72-7.72 1.47 1.35L5.41 20z\"/>\n",
              "  </svg>\n",
              "      </button>\n",
              "      \n",
              "  <style>\n",
              "    .colab-df-container {\n",
              "      display:flex;\n",
              "      flex-wrap:wrap;\n",
              "      gap: 12px;\n",
              "    }\n",
              "\n",
              "    .colab-df-convert {\n",
              "      background-color: #E8F0FE;\n",
              "      border: none;\n",
              "      border-radius: 50%;\n",
              "      cursor: pointer;\n",
              "      display: none;\n",
              "      fill: #1967D2;\n",
              "      height: 32px;\n",
              "      padding: 0 0 0 0;\n",
              "      width: 32px;\n",
              "    }\n",
              "\n",
              "    .colab-df-convert:hover {\n",
              "      background-color: #E2EBFA;\n",
              "      box-shadow: 0px 1px 2px rgba(60, 64, 67, 0.3), 0px 1px 3px 1px rgba(60, 64, 67, 0.15);\n",
              "      fill: #174EA6;\n",
              "    }\n",
              "\n",
              "    [theme=dark] .colab-df-convert {\n",
              "      background-color: #3B4455;\n",
              "      fill: #D2E3FC;\n",
              "    }\n",
              "\n",
              "    [theme=dark] .colab-df-convert:hover {\n",
              "      background-color: #434B5C;\n",
              "      box-shadow: 0px 1px 3px 1px rgba(0, 0, 0, 0.15);\n",
              "      filter: drop-shadow(0px 1px 2px rgba(0, 0, 0, 0.3));\n",
              "      fill: #FFFFFF;\n",
              "    }\n",
              "  </style>\n",
              "\n",
              "      <script>\n",
              "        const buttonEl =\n",
              "          document.querySelector('#df-d63f3476-1896-47e9-8627-025f0b1fc4ac button.colab-df-convert');\n",
              "        buttonEl.style.display =\n",
              "          google.colab.kernel.accessAllowed ? 'block' : 'none';\n",
              "\n",
              "        async function convertToInteractive(key) {\n",
              "          const element = document.querySelector('#df-d63f3476-1896-47e9-8627-025f0b1fc4ac');\n",
              "          const dataTable =\n",
              "            await google.colab.kernel.invokeFunction('convertToInteractive',\n",
              "                                                     [key], {});\n",
              "          if (!dataTable) return;\n",
              "\n",
              "          const docLinkHtml = 'Like what you see? Visit the ' +\n",
              "            '<a target=\"_blank\" href=https://colab.research.google.com/notebooks/data_table.ipynb>data table notebook</a>'\n",
              "            + ' to learn more about interactive tables.';\n",
              "          element.innerHTML = '';\n",
              "          dataTable['output_type'] = 'display_data';\n",
              "          await google.colab.output.renderOutput(dataTable, element);\n",
              "          const docLink = document.createElement('div');\n",
              "          docLink.innerHTML = docLinkHtml;\n",
              "          element.appendChild(docLink);\n",
              "        }\n",
              "      </script>\n",
              "    </div>\n",
              "  </div>\n",
              "  "
            ]
          },
          "metadata": {},
          "execution_count": 125
        }
      ]
    },
    {
      "cell_type": "markdown",
      "source": [
        "2.5 Train/Test Split"
      ],
      "metadata": {
        "id": "bFJm6o_l05SQ"
      }
    },
    {
      "cell_type": "code",
      "source": [
        "# Train/Test Split - [3 sec]\n",
        "X_train, X_test, y_train, y_test = train_test_split(X_vectorized, y, test_size=0.2, stratify=y, random_state=0)"
      ],
      "metadata": {
        "id": "csNaGuduw2sS"
      },
      "execution_count": 126,
      "outputs": []
    },
    {
      "cell_type": "markdown",
      "source": [
        "## 3. Models"
      ],
      "metadata": {
        "id": "n5gl11r_tOmG"
      }
    },
    {
      "cell_type": "markdown",
      "source": [
        "3.1 Naive Bayes (Poems Classifier)"
      ],
      "metadata": {
        "id": "xTX3fg6Q12A6"
      }
    },
    {
      "cell_type": "code",
      "source": [
        "# train classifier\n",
        "classifier = MultinomialNB(alpha=1)\n",
        "classifier.fit(X_train, y_train)\n",
        "\n",
        "# predict\n",
        "y_pred = classifier.predict(X_test)\n",
        "\n",
        "# report\n",
        "classification_report = classification_report(y_test, y_pred)\n",
        "\n",
        "print('\\n Accuracy: ', accuracy_score(y_test, y_pred))\n",
        "print('\\n Accuracy: ', accuracy_score(y_train, y_pred_2))\n",
        "print('\\nClassification Report')\n",
        "print('======================================================')\n",
        "print('\\n', classification_report)\n",
        "\n",
        "conf_mat = confusion_matrix(y_test, y_pred, normalize = \"true\")\n",
        "sns.heatmap(conf_mat.T, annot=True, fmt=\".0%\", cmap=\"cividis\", xticklabels=[0,1,2,3,4,5,6], yticklabels=[0,1,2,3,4,5,6])\n",
        "plt.xlabel(\"True label\")\n",
        "plt.ylabel(\"Predicted label\")"
      ],
      "metadata": {
        "id": "EqCsreuhtR9d",
        "colab": {
          "base_uri": "https://localhost:8080/",
          "height": 713
        },
        "outputId": "22821b6c-cec9-4d89-92e2-a65a1bebacdc"
      },
      "execution_count": 128,
      "outputs": [
        {
          "output_type": "stream",
          "name": "stdout",
          "text": [
            "[1 3 5 ... 5 5 4]\n",
            "[1 3 5 ... 5 2 4]\n",
            "\n",
            " Accuracy:  0.6252955082742316\n",
            "\n",
            " Accuracy:  0.7017880892566869\n",
            "\n",
            "Classification Report\n",
            "======================================================\n",
            "\n",
            "               precision    recall  f1-score   support\n",
            "\n",
            "           0       0.72      0.61      0.66       219\n",
            "           1       0.61      0.67      0.64       258\n",
            "           2       0.74      0.45      0.56       220\n",
            "           3       0.82      0.57      0.67       199\n",
            "           4       0.67      0.58      0.62       259\n",
            "           5       0.53      0.79      0.64       258\n",
            "           6       0.54      0.67      0.60       279\n",
            "\n",
            "    accuracy                           0.63      1692\n",
            "   macro avg       0.66      0.62      0.63      1692\n",
            "weighted avg       0.65      0.63      0.62      1692\n",
            "\n"
          ]
        },
        {
          "output_type": "execute_result",
          "data": {
            "text/plain": [
              "Text(33.0, 0.5, 'Predicted label')"
            ]
          },
          "metadata": {},
          "execution_count": 128
        },
        {
          "output_type": "display_data",
          "data": {
            "text/plain": [
              "<Figure size 432x288 with 2 Axes>"
            ],
            "image/png": "[encoded data removed]"
          },
          "metadata": {
            "needs_background": "light"
          }
        }
      ]
    },
    {
      "cell_type": "markdown",
      "source": [
        "3.2 Transformer: GPT-2 (Poems Generator)"
      ],
      "metadata": {
        "id": "Bs9Sr44x17ng"
      }
    },
    {
      "cell_type": "code",
      "source": [],
      "metadata": {
        "id": "Z_nbDf152IpK"
      },
      "execution_count": null,
      "outputs": []
    },
    {
      "cell_type": "markdown",
      "source": [
        "3.3 GAN (Music Generator)"
      ],
      "metadata": {
        "id": "EsCrkXtW2JJH"
      }
    },
    {
      "cell_type": "code",
      "source": [],
      "metadata": {
        "id": "PrSJ5Iwq2NTo"
      },
      "execution_count": null,
      "outputs": []
    },
    {
      "cell_type": "markdown",
      "source": [
        "## 4. Notes"
      ],
      "metadata": {
        "id": "GQIRTjt0SXLi"
      }
    },
    {
      "cell_type": "code",
      "source": [
        "with open(\"/content/topics/marriage/MarriagePoemsMarriageSongPoembyYehudahHaLevi.txt\") as f:\n",
        "  lines = f.readlines()\n",
        "\n",
        "print(lines)"
      ],
      "metadata": {
        "colab": {
          "base_uri": "https://localhost:8080/"
        },
        "id": "hqpaEkUWjSeo",
        "outputId": "45dc4773-68b3-429c-e4f1-2cd2ab49adc1"
      },
      "execution_count": null,
      "outputs": [
        {
          "output_type": "stream",
          "name": "stdout",
          "text": [
            "['Fair is my dove, my loved one,\\n', 'None can with her compare:\\n', 'Yea, comely as Jerusalem,\\n', 'Like unto Tirzah fair.\\n', 'Shall she in tents unstable\\n', 'A wanderer abide,\\n', 'While in my heart awaits her\\n', 'A dwelling deep and wide?\\n', 'The magic of her beauty\\n', 'Has stolen my heart away:\\n', \"Not Egypt's wise enchanters\\n\", 'Held half such wondrous sway.\\n', 'Even as the changing opal\\n', 'In varying luster glows,\\n', 'Her face at every moment\\n', 'New charms and sweetness shows.\\n', 'White lilies and red roses\\n', 'There blossom on one stem:\\n', 'Her lips of crimson berries\\n', 'Tempt mine to gather them.\\n', 'By dusky tresses shaded\\n', 'Her brow gleams fair and pale,\\n', 'Like to the sun at twilight,\\n', 'Behind a cloudy veil.\\n', 'Her beauty shames the day-star,\\n', 'And makes the darkness light:\\n', 'Day in her radiant presence\\n', 'Grows seven times more bright.\\n', 'This is a lonely lover!\\n', 'Come, fair one, to his side,\\n', 'That happy be together\\n', 'The bridegroom and the bride!\\n', 'The hour of love approaches\\n', 'That shall make one of twain:\\n', 'Soon may be thus united\\n', \"All Israel's hosts again!\"]\n"
          ]
        }
      ]
    },
    {
      "cell_type": "code",
      "source": [
        "# This is a sentence ->{'<s>', 'This', 'is', 'a', 'sentence', '</s>'}\n",
        "\n",
        "# corpus: body of text (pl. corpora)\n",
        "# token: \"word\""
      ],
      "metadata": {
        "id": "N_JHIjI_dwhv"
      },
      "execution_count": null,
      "outputs": []
    }
  ]
}